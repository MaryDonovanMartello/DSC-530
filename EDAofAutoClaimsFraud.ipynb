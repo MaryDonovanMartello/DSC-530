{
 "cells": [
  {
   "cell_type": "code",
   "execution_count": 1,
   "metadata": {},
   "outputs": [],
   "source": [
    "from __future__ import print_function, division\n",
    "\n",
    "%matplotlib inline\n",
    "\n",
    "# import libraries\n",
    "\n",
    "import numpy as np\n",
    "import thinkstats2\n",
    "import thinkplot\n",
    "import pandas\n",
    "from collections import Counter\n",
    "import analytic\n",
    "import random\n",
    "import scipy.stats\n",
    "import analytic\n",
    "import hinc\n",
    "from thinkstats2 import Mean, MeanVar, Var, Std, Cov\n",
    "import statsmodels.formula.api as smf\n",
    "from scipy import stats\n",
    "import matplotlib.pyplot as plt\n",
    "import seaborn as sn\n",
    "# importing regex module (search strings) RegEx can be used to check if a string contains the specified search pattern\n",
    "import re\n",
    "import patsy #stats\n",
    "from tabulate import tabulate\n",
    "\n",
    "# import data set\n",
    "dfClaims = pandas.read_csv('FradulentInsuranceClaims.csv')\n"
   ]
  },
  {
   "cell_type": "code",
   "execution_count": 2,
   "metadata": {},
   "outputs": [],
   "source": [
    "# rename difficult column names\n",
    "dfClaims.rename(columns={'capital-gains': 'capital_gains', 'capital-loss': 'capital_loss'}, inplace=True)\n",
    "#dfClaims.columns"
   ]
  },
  {
   "cell_type": "code",
   "execution_count": 3,
   "metadata": {},
   "outputs": [],
   "source": [
    "# split policy_csl into separate columns\n",
    "\n",
    "# new data frame with split value columns \n",
    "newDF = dfClaims[\"policy_csl\"].str.split(\"/\", n = 1, expand = True)\n",
    "\n",
    "# making separate csl_bodily column from new data frame \n",
    "dfClaims[\"csl_bodily\"] = newDF[0] \n",
    "  \n",
    "# making separate csl_property column from new data frame \n",
    "dfClaims[\"csl_prop\"] = newDF[1] \n",
    "  \n",
    "# Dropping old policy_csl columns \n",
    "dfClaims.drop(columns =[\"policy_csl\"], inplace = True) \n",
    "  "
   ]
  },
  {
   "cell_type": "code",
   "execution_count": 4,
   "metadata": {},
   "outputs": [],
   "source": [
    "dfClaims[\"csl_bodily\"] = dfClaims[\"csl_bodily\"].astype(int)\n",
    "dfClaims[\"csl_prop\"] = dfClaims[\"csl_prop\"].astype(int)\n"
   ]
  },
  {
   "cell_type": "code",
   "execution_count": 5,
   "metadata": {},
   "outputs": [],
   "source": [
    "# drop umbrella outlier observation\n",
    "#dfClaims[dfClaims.umbrella_limit >= 0]\n",
    "dfClaims.drop(dfClaims[dfClaims['umbrella_limit'] < 0].index, inplace = True)"
   ]
  },
  {
   "cell_type": "code",
   "execution_count": 6,
   "metadata": {},
   "outputs": [],
   "source": [
    "dfClaims.drop(columns =[\"_c39\"], inplace = True)"
   ]
  },
  {
   "cell_type": "code",
   "execution_count": 7,
   "metadata": {},
   "outputs": [],
   "source": [
    "# changing date format for date columns \n",
    "dfClaims[\"incident_date\"]= pandas.to_datetime(dfClaims[\"incident_date\"])\n",
    "dfClaims[\"policy_bind_date\"]= pandas.to_datetime(dfClaims[\"policy_bind_date\"])"
   ]
  },
  {
   "cell_type": "code",
   "execution_count": 8,
   "metadata": {},
   "outputs": [],
   "source": [
    "# create new column for diff in months between policy_bind_date and incident_date\n",
    "dfClaims['months_bf_incident'] = ((dfClaims.incident_date - dfClaims.policy_bind_date)/np.timedelta64(1, 'M'))"
   ]
  },
  {
   "cell_type": "code",
   "execution_count": 9,
   "metadata": {},
   "outputs": [],
   "source": [
    "# Dropping old incident_date and policy_bind_date columns \n",
    "dfClaims.drop(columns =[\"incident_date\"], inplace = True)\n",
    "dfClaims.drop(columns =[\"policy_bind_date\"], inplace = True)"
   ]
  },
  {
   "cell_type": "code",
   "execution_count": 10,
   "metadata": {},
   "outputs": [],
   "source": [
    "# how many fraud reported yes\n",
    "fraudY = dfClaims[dfClaims['fraud_reported'] == 'Y']\n",
    "fraudY.shape"
   ]
  },
  {
   "cell_type": "code",
   "execution_count": 11,
   "metadata": {},
   "outputs": [
    {
     "data": {
      "text/plain": [
       "(752, 39)"
      ]
     },
     "execution_count": 11,
     "metadata": {},
     "output_type": "execute_result"
    }
   ],
   "source": [
    "# how many fraud reported yes\n",
    "fraudN = dfClaims[dfClaims['fraud_reported'] == 'N']\n",
    "fraudN.shape"
   ]
  },
  {
   "cell_type": "code",
   "execution_count": 12,
   "metadata": {},
   "outputs": [],
   "source": [
    "# subset for fraud reported is yes\n",
    "rowsYesFraud = dfClaims['fraud_reported'] == 'Y'\n",
    "#columnsYesFraud = ['age', 'total_claim_amount', 'witnesses']\n",
    "fraudY2 = dfClaims.loc[rowsYesFraud, ]"
   ]
  },
  {
   "cell_type": "code",
   "execution_count": 13,
   "metadata": {},
   "outputs": [],
   "source": [
    "# subset for fraud reported is no\n",
    "rowsNoFraud = dfClaims['fraud_reported'] == 'N'\n",
    "#columnsNoFraud = ['age', 'total_claim_amount', 'witnesses']\n",
    "fraudN2 = dfClaims.loc[rowsNoFraud, ]"
   ]
  },
  {
   "cell_type": "code",
   "execution_count": 14,
   "metadata": {},
   "outputs": [],
   "source": [
    "# factorize categorical from strings to numberics in dfClaims df\n",
    "dfClaims['fraud_reported_f'] = pandas.factorize(dfClaims.fraud_reported)[0]\n",
    "dfClaims['policy_state_f'] = pandas.factorize(dfClaims.policy_state)[0]\n",
    "dfClaims['insured_sex_f'] = pandas.factorize(dfClaims.insured_sex)[0]\n",
    "dfClaims['insured_education_level_f'] = pandas.factorize(dfClaims.insured_education_level)[0]\n",
    "dfClaims['insured_occupation_f'] = pandas.factorize(dfClaims.insured_occupation)[0]\n",
    "dfClaims['insured_hobbies_f'] = pandas.factorize(dfClaims.insured_hobbies)[0]\n",
    "dfClaims['insured_relationship_f'] = pandas.factorize(dfClaims.insured_relationship)[0]\n",
    "dfClaims['incident_type_f'] = pandas.factorize(dfClaims.incident_type)[0]\n",
    "dfClaims['collision_type_f'] = pandas.factorize(dfClaims.collision_type)[0]\n",
    "dfClaims['incident_severity_f'] = pandas.factorize(dfClaims.incident_severity)[0]\n",
    "dfClaims['authorities_contacted_f'] = pandas.factorize(dfClaims.authorities_contacted)[0]\n",
    "dfClaims['incident_state_f'] = pandas.factorize(dfClaims.incident_state)[0]\n",
    "dfClaims['incident_city_f'] = pandas.factorize(dfClaims.incident_city)[0]\n",
    "dfClaims['property_damage_f'] = pandas.factorize(dfClaims.property_damage)[0]\n",
    "dfClaims['police_report_available_f'] = pandas.factorize(dfClaims.police_report_available)[0]\n",
    "dfClaims['auto_make_f'] = pandas.factorize(dfClaims.auto_make)[0]\n",
    "dfClaims['auto_model_f'] = pandas.factorize(dfClaims.auto_model)[0]"
   ]
  },
  {
   "cell_type": "code",
   "execution_count": 15,
   "metadata": {},
   "outputs": [],
   "source": [
    "# factorize categorical from strings to numberics in fraudY2 df\n",
    "\n",
    "pandas.set_option('mode.chained_assignment', None)\n",
    "\n",
    "fraudY2['fraud_reported_f'] = pandas.factorize(fraudY2.fraud_reported)[0]\n",
    "fraudY2['policy_state_f'] = pandas.factorize(fraudY2.policy_state)[0]\n",
    "fraudY2['insured_sex_f'] = pandas.factorize(fraudY2.insured_sex)[0]\n",
    "fraudY2['insured_education_level_f'] = pandas.factorize(fraudY2.insured_education_level)[0]\n",
    "fraudY2['insured_occupation_f'] = pandas.factorize(fraudY2.insured_occupation)[0]\n",
    "fraudY2['insured_hobbies_f'] = pandas.factorize(fraudY2.insured_hobbies)[0]\n",
    "fraudY2['insured_relationship_f'] = pandas.factorize(fraudY2.insured_relationship)[0]\n",
    "fraudY2['incident_type_f'] = pandas.factorize(fraudY2.incident_type)[0]\n",
    "fraudY2['collision_type_f'] = pandas.factorize(fraudY2.collision_type)[0]\n",
    "fraudY2['incident_severity_f'] = pandas.factorize(fraudY2.incident_severity)[0]\n",
    "fraudY2['authorities_contacted_f'] = pandas.factorize(fraudY2.authorities_contacted)[0]\n",
    "fraudY2['incident_state_f'] = pandas.factorize(fraudY2.incident_state)[0]\n",
    "fraudY2['incident_city_f'] = pandas.factorize(fraudY2.incident_city)[0]\n",
    "fraudY2['property_damage_f'] = pandas.factorize(fraudY2.property_damage)[0]\n",
    "fraudY2['police_report_available_f'] = pandas.factorize(fraudY2.police_report_available)[0]\n",
    "fraudY2['auto_make_f'] = pandas.factorize(fraudY2.auto_make)[0]\n",
    "fraudY2['auto_model_f'] = pandas.factorize(fraudY2.auto_model)[0]"
   ]
  },
  {
   "cell_type": "code",
   "execution_count": 16,
   "metadata": {},
   "outputs": [],
   "source": [
    "# factorize categorical from strings to numberics in fraudN2 df\n",
    "\n",
    "pandas.set_option('mode.chained_assignment', None)\n",
    "\n",
    "fraudN2['fraud_reported_f'] = pandas.factorize(fraudN2.fraud_reported)[0]\n",
    "fraudN2['policy_state_f'] = pandas.factorize(fraudN2.policy_state)[0]\n",
    "fraudN2['insured_sex_f'] = pandas.factorize(fraudN2.insured_sex)[0]\n",
    "fraudN2['insured_education_level_f'] = pandas.factorize(fraudN2.insured_education_level)[0]\n",
    "fraudN2['insured_occupation_f'] = pandas.factorize(fraudN2.insured_occupation)[0]\n",
    "fraudN2['insured_hobbies_f'] = pandas.factorize(fraudN2.insured_hobbies)[0]\n",
    "fraudN2['insured_relationship_f'] = pandas.factorize(fraudN2.insured_relationship)[0]\n",
    "fraudN2['incident_type_f'] = pandas.factorize(fraudN2.incident_type)[0]\n",
    "fraudN2['collision_type_f'] = pandas.factorize(fraudN2.collision_type)[0]\n",
    "fraudN2['incident_severity_f'] = pandas.factorize(fraudN2.incident_severity)[0]\n",
    "fraudN2['authorities_contacted_f'] = pandas.factorize(fraudN2.authorities_contacted)[0]\n",
    "fraudN2['incident_state_f'] = pandas.factorize(fraudN2.incident_state)[0]\n",
    "fraudN2['incident_city_f'] = pandas.factorize(fraudN2.incident_city)[0]\n",
    "fraudN2['property_damage_f'] = pandas.factorize(fraudN2.property_damage)[0]\n",
    "fraudN2['police_report_available_f'] = pandas.factorize(fraudN2.police_report_available)[0]\n",
    "fraudN2['auto_make_f'] = pandas.factorize(fraudN2.auto_make)[0]\n",
    "fraudN2['auto_model_f'] = pandas.factorize(fraudN2.auto_model)[0]"
   ]
  },
  {
   "cell_type": "code",
   "execution_count": 17,
   "metadata": {},
   "outputs": [
    {
     "data": {
      "image/png": "[encoded data removed]",
      "text/plain": [
       "<Figure size 432x288 with 1 Axes>"
      ]
     },
     "metadata": {
      "needs_background": "light"
     },
     "output_type": "display_data"
    }
   ],
   "source": [
    "totalClaimAmt = np.around(dfClaims.total_claim_amount, decimals=-4)\n",
    "histTotClaimAmt = thinkstats2.Hist(totalClaimAmt, label='Total Claim Amount')\n",
    "thinkplot.Hist(histTotClaimAmt)\n",
    "thinkplot.Config(xlabel='Total Claim Amount', ylabel='Count')"
   ]
  },
  {
   "cell_type": "code",
   "execution_count": 18,
   "metadata": {},
   "outputs": [
    {
     "data": {
      "image/png": "[encoded data removed]",
      "text/plain": [
       "<Figure size 432x288 with 1 Axes>"
      ]
     },
     "metadata": {
      "needs_background": "light"
     },
     "output_type": "display_data"
    }
   ],
   "source": [
    "totalClaimAmtY = np.around(fraudY2.total_claim_amount, decimals=-4)\n",
    "hist = thinkstats2.Hist(totalClaimAmtY, label='Total Claim Amount - Fraud Reported')\n",
    "thinkplot.Hist(hist)\n",
    "thinkplot.Config(xlabel='Total Claim Amount', ylabel='Count')"
   ]
  },
  {
   "cell_type": "code",
   "execution_count": 19,
   "metadata": {},
   "outputs": [
    {
     "data": {
      "image/png": "[encoded data removed]",
      "text/plain": [
       "<Figure size 432x288 with 1 Axes>"
      ]
     },
     "metadata": {
      "needs_background": "light"
     },
     "output_type": "display_data"
    }
   ],
   "source": [
    "totalClaimAmtN = np.around(fraudN2.total_claim_amount, decimals=-4)\n",
    "hist = thinkstats2.Hist(totalClaimAmtN, label='Total Claim Amount - No Fraud Reported')\n",
    "thinkplot.Hist(hist)\n",
    "thinkplot.Config(xlabel='Total Claim Amount', ylabel='Count')"
   ]
  },
  {
   "cell_type": "code",
   "execution_count": 20,
   "metadata": {},
   "outputs": [
    {
     "data": {
      "image/png": "[encoded data removed]",
      "text/plain": [
       "<Figure size 432x288 with 1 Axes>"
      ]
     },
     "metadata": {
      "needs_background": "light"
     },
     "output_type": "display_data"
    }
   ],
   "source": [
    "# after filtering out the negative outlier\n",
    "histUmbrella = thinkstats2.Hist(dfClaims.umbrella_limit, label='Umbrella Limit')\n",
    "thinkplot.Hist(histUmbrella)\n",
    "thinkplot.Config(xlabel='Umbrella Limit', ylabel='Count')"
   ]
  },
  {
   "cell_type": "code",
   "execution_count": 21,
   "metadata": {},
   "outputs": [
    {
     "data": {
      "image/png": "[encoded data removed]",
      "text/plain": [
       "<Figure size 432x288 with 1 Axes>"
      ]
     },
     "metadata": {
      "needs_background": "light"
     },
     "output_type": "display_data"
    }
   ],
   "source": [
    "# after filtering out the negative outlier\n",
    "histUmbrella = thinkstats2.Hist(fraudY2.umbrella_limit, label='Umbrella Limit - Fraud Reported')\n",
    "thinkplot.Hist(histUmbrella)\n",
    "thinkplot.Config(xlabel='Umbrella Limit', ylabel='Count')"
   ]
  },
  {
   "cell_type": "code",
   "execution_count": 22,
   "metadata": {},
   "outputs": [
    {
     "data": {
      "image/png": "[encoded data removed]",
      "text/plain": [
       "<Figure size 432x288 with 1 Axes>"
      ]
     },
     "metadata": {
      "needs_background": "light"
     },
     "output_type": "display_data"
    }
   ],
   "source": [
    "# after filtering out the negative outlier\n",
    "histUmbrella = thinkstats2.Hist(fraudN2.umbrella_limit, label='Umbrella Limit - No Fraud Reported')\n",
    "thinkplot.Hist(histUmbrella)\n",
    "thinkplot.Config(xlabel='Umbrella Limit', ylabel='Count')"
   ]
  },
  {
   "cell_type": "code",
   "execution_count": 23,
   "metadata": {},
   "outputs": [
    {
     "data": {
      "image/png": "[encoded data removed]",
      "text/plain": [
       "<Figure size 432x288 with 1 Axes>"
      ]
     },
     "metadata": {
      "needs_background": "light"
     },
     "output_type": "display_data"
    }
   ],
   "source": [
    "monthsBfInc = np.around(dfClaims.months_bf_incident, decimals=-1)\n",
    "hist = thinkstats2.Hist(monthsBfInc, label='Months before incident')\n",
    "thinkplot.Hist(hist)\n",
    "thinkplot.Config(xlabel='Months Before Incident', ylabel='Count')"
   ]
  },
  {
   "cell_type": "code",
   "execution_count": 24,
   "metadata": {},
   "outputs": [
    {
     "data": {
      "image/png": "[encoded data removed]",
      "text/plain": [
       "<Figure size 432x288 with 1 Axes>"
      ]
     },
     "metadata": {
      "needs_background": "light"
     },
     "output_type": "display_data"
    }
   ],
   "source": [
    "monthsBfIncY = np.around(fraudY2.months_bf_incident, decimals=-1)\n",
    "hist = thinkstats2.Hist(monthsBfIncY, label='Months before incident- Fraud Reported')\n",
    "thinkplot.Hist(hist)\n",
    "thinkplot.Config(xlabel='Months Before Incident', ylabel='Count')"
   ]
  },
  {
   "cell_type": "code",
   "execution_count": 25,
   "metadata": {},
   "outputs": [
    {
     "data": {
      "image/png": "[encoded data removed]",
      "text/plain": [
       "<Figure size 432x288 with 1 Axes>"
      ]
     },
     "metadata": {
      "needs_background": "light"
     },
     "output_type": "display_data"
    }
   ],
   "source": [
    "monthsBfIncN = np.around(fraudN2.months_bf_incident, decimals=-1)\n",
    "hist = thinkstats2.Hist(monthsBfIncN, label='Months before incident- No Fraud Reported')\n",
    "thinkplot.Hist(hist)\n",
    "thinkplot.Config(xlabel='Months Before Incident', ylabel='Count')"
   ]
  },
  {
   "cell_type": "code",
   "execution_count": 26,
   "metadata": {},
   "outputs": [
    {
     "data": {
      "image/png": "[encoded data removed]",
      "text/plain": [
       "<Figure size 432x288 with 1 Axes>"
      ]
     },
     "metadata": {
      "needs_background": "light"
     },
     "output_type": "display_data"
    }
   ],
   "source": [
    "histWitnesses = thinkstats2.Hist(dfClaims.witnesses, label='Witnesses')\n",
    "thinkplot.Hist(histWitnesses)\n",
    "thinkplot.Config(xlabel='Witnesses', ylabel='Count')"
   ]
  },
  {
   "cell_type": "code",
   "execution_count": 27,
   "metadata": {},
   "outputs": [
    {
     "data": {
      "image/png": "[encoded data removed]",
      "text/plain": [
       "<Figure size 432x288 with 1 Axes>"
      ]
     },
     "metadata": {
      "needs_background": "light"
     },
     "output_type": "display_data"
    }
   ],
   "source": [
    "histWitnesses = thinkstats2.Hist(fraudY2.witnesses, label='Witnesses- Fraud Reported')\n",
    "thinkplot.Hist(histWitnesses)\n",
    "thinkplot.Config(xlabel='Witnesses', ylabel='Count')"
   ]
  },
  {
   "cell_type": "code",
   "execution_count": 28,
   "metadata": {},
   "outputs": [
    {
     "data": {
      "image/png": "[encoded data removed]",
      "text/plain": [
       "<Figure size 432x288 with 1 Axes>"
      ]
     },
     "metadata": {
      "needs_background": "light"
     },
     "output_type": "display_data"
    }
   ],
   "source": [
    "histWitnesses = thinkstats2.Hist(fraudN2.witnesses, label='Witnesses- No Fraud Reported')\n",
    "thinkplot.Hist(histWitnesses)\n",
    "thinkplot.Config(xlabel='Witnesses', ylabel='Count')"
   ]
  },
  {
   "cell_type": "code",
   "execution_count": 29,
   "metadata": {},
   "outputs": [
    {
     "data": {
      "image/png": "[encoded data removed]",
      "text/plain": [
       "<Figure size 432x288 with 1 Axes>"
      ]
     },
     "metadata": {
      "needs_background": "light"
     },
     "output_type": "display_data"
    }
   ],
   "source": [
    "histPolDeduct = thinkstats2.Hist(dfClaims.policy_deductable, label='Policy Deductible')\n",
    "thinkplot.Hist(histPolDeduct)\n",
    "thinkplot.Config(xlabel='Policy Deductible', ylabel='Count')"
   ]
  },
  {
   "cell_type": "code",
   "execution_count": 30,
   "metadata": {},
   "outputs": [
    {
     "data": {
      "image/png": "[encoded data removed]",
      "text/plain": [
       "<Figure size 432x288 with 1 Axes>"
      ]
     },
     "metadata": {
      "needs_background": "light"
     },
     "output_type": "display_data"
    }
   ],
   "source": [
    "histPolDeduct = thinkstats2.Hist(fraudY2.policy_deductable, label='Policy Deductible - Fraud Reported')\n",
    "thinkplot.Hist(histPolDeduct)\n",
    "thinkplot.Config(xlabel='Policy Deductible', ylabel='Count')\n"
   ]
  },
  {
   "cell_type": "code",
   "execution_count": 31,
   "metadata": {},
   "outputs": [
    {
     "data": {
      "image/png": "[encoded data removed]",
      "text/plain": [
       "<Figure size 432x288 with 1 Axes>"
      ]
     },
     "metadata": {
      "needs_background": "light"
     },
     "output_type": "display_data"
    }
   ],
   "source": [
    "histPolDeduct = thinkstats2.Hist(fraudN2.policy_deductable, label='Policy Deductible - No Fraud Reported')\n",
    "thinkplot.Hist(histPolDeduct)\n",
    "thinkplot.Config(xlabel='Policy Deductible', ylabel='Count')"
   ]
  },
  {
   "cell_type": "code",
   "execution_count": 32,
   "metadata": {},
   "outputs": [
    {
     "data": {
      "image/png": "[encoded data removed]",
      "text/plain": [
       "<Figure size 432x288 with 1 Axes>"
      ]
     },
     "metadata": {
      "needs_background": "light"
     },
     "output_type": "display_data"
    }
   ],
   "source": [
    "histIncSev = thinkstats2.Hist(dfClaims.incident_severity, label='Incident Severity')\n",
    "thinkplot.Hist(histIncSev)\n",
    "thinkplot.Config(xlabel='Incident Severity', ylabel='Count')"
   ]
  },
  {
   "cell_type": "code",
   "execution_count": 35,
   "metadata": {},
   "outputs": [
    {
     "data": {
      "image/png": "[encoded data removed]",
      "text/plain": [
       "<Figure size 432x288 with 1 Axes>"
      ]
     },
     "metadata": {
      "needs_background": "light"
     },
     "output_type": "display_data"
    }
   ],
   "source": [
    "histIncSev = thinkstats2.Hist(fraudY2.incident_severity, label='Incident Severity - Fraud Reported')\n",
    "thinkplot.Hist(histIncSev)\n",
    "thinkplot.Config(xlabel='Incident Severity', ylabel='Count')"
   ]
  },
  {
   "cell_type": "code",
   "execution_count": 36,
   "metadata": {},
   "outputs": [
    {
     "data": {
      "image/png": "[encoded data removed]",
      "text/plain": [
       "<Figure size 432x288 with 1 Axes>"
      ]
     },
     "metadata": {
      "needs_background": "light"
     },
     "output_type": "display_data"
    }
   ],
   "source": [
    "histIncSev = thinkstats2.Hist(fraudN2.incident_severity, label='Incident Severity - No Fraud Reported')\n",
    "thinkplot.Hist(histIncSev)\n",
    "thinkplot.Config(xlabel='Incident Severity', ylabel='Count')\n"
   ]
  },
  {
   "cell_type": "code",
   "execution_count": 37,
   "metadata": {},
   "outputs": [
    {
     "data": {
      "text/html": [
       "<div>\n",
       "<style scoped>\n",
       "    .dataframe tbody tr th:only-of-type {\n",
       "        vertical-align: middle;\n",
       "    }\n",
       "\n",
       "    .dataframe tbody tr th {\n",
       "        vertical-align: top;\n",
       "    }\n",
       "\n",
       "    .dataframe thead th {\n",
       "        text-align: right;\n",
       "    }\n",
       "</style>\n",
       "<table border=\"1\" class=\"dataframe\">\n",
       "  <thead>\n",
       "    <tr style=\"text-align: right;\">\n",
       "      <th></th>\n",
       "      <th>months_bf_incident</th>\n",
       "      <th>total_claim_amount</th>\n",
       "      <th>vehicle_claim</th>\n",
       "      <th>witnesses</th>\n",
       "      <th>number_of_vehicles_involved</th>\n",
       "      <th>policy_deductable</th>\n",
       "      <th>umbrella_limit</th>\n",
       "    </tr>\n",
       "  </thead>\n",
       "  <tbody>\n",
       "    <tr>\n",
       "      <th>count</th>\n",
       "      <td>999.000000</td>\n",
       "      <td>999.000000</td>\n",
       "      <td>999.000000</td>\n",
       "      <td>999.000000</td>\n",
       "      <td>999.000000</td>\n",
       "      <td>999.000000</td>\n",
       "      <td>9.990000e+02</td>\n",
       "    </tr>\n",
       "    <tr>\n",
       "      <th>mean</th>\n",
       "      <td>155.622634</td>\n",
       "      <td>52720.500501</td>\n",
       "      <td>37898.368368</td>\n",
       "      <td>1.487487</td>\n",
       "      <td>1.839840</td>\n",
       "      <td>1136.636637</td>\n",
       "      <td>1.103103e+06</td>\n",
       "    </tr>\n",
       "    <tr>\n",
       "      <th>std</th>\n",
       "      <td>88.269144</td>\n",
       "      <td>26382.199299</td>\n",
       "      <td>18870.924206</td>\n",
       "      <td>1.111785</td>\n",
       "      <td>1.019044</td>\n",
       "      <td>611.839681</td>\n",
       "      <td>2.297594e+06</td>\n",
       "    </tr>\n",
       "    <tr>\n",
       "      <th>min</th>\n",
       "      <td>-0.657098</td>\n",
       "      <td>100.000000</td>\n",
       "      <td>70.000000</td>\n",
       "      <td>0.000000</td>\n",
       "      <td>1.000000</td>\n",
       "      <td>500.000000</td>\n",
       "      <td>0.000000e+00</td>\n",
       "    </tr>\n",
       "    <tr>\n",
       "      <th>25%</th>\n",
       "      <td>81.545822</td>\n",
       "      <td>41775.000000</td>\n",
       "      <td>30275.000000</td>\n",
       "      <td>1.000000</td>\n",
       "      <td>1.000000</td>\n",
       "      <td>500.000000</td>\n",
       "      <td>0.000000e+00</td>\n",
       "    </tr>\n",
       "    <tr>\n",
       "      <th>50%</th>\n",
       "      <td>153.662293</td>\n",
       "      <td>57970.000000</td>\n",
       "      <td>42080.000000</td>\n",
       "      <td>1.000000</td>\n",
       "      <td>1.000000</td>\n",
       "      <td>1000.000000</td>\n",
       "      <td>0.000000e+00</td>\n",
       "    </tr>\n",
       "    <tr>\n",
       "      <th>75%</th>\n",
       "      <td>232.185466</td>\n",
       "      <td>70550.000000</td>\n",
       "      <td>50775.000000</td>\n",
       "      <td>2.000000</td>\n",
       "      <td>3.000000</td>\n",
       "      <td>2000.000000</td>\n",
       "      <td>0.000000e+00</td>\n",
       "    </tr>\n",
       "    <tr>\n",
       "      <th>max</th>\n",
       "      <td>301.344997</td>\n",
       "      <td>114920.000000</td>\n",
       "      <td>79560.000000</td>\n",
       "      <td>3.000000</td>\n",
       "      <td>4.000000</td>\n",
       "      <td>2000.000000</td>\n",
       "      <td>1.000000e+07</td>\n",
       "    </tr>\n",
       "  </tbody>\n",
       "</table>\n",
       "</div>"
      ],
      "text/plain": [
       "       months_bf_incident  total_claim_amount  vehicle_claim   witnesses  \\\n",
       "count          999.000000          999.000000     999.000000  999.000000   \n",
       "mean           155.622634        52720.500501   37898.368368    1.487487   \n",
       "std             88.269144        26382.199299   18870.924206    1.111785   \n",
       "min             -0.657098          100.000000      70.000000    0.000000   \n",
       "25%             81.545822        41775.000000   30275.000000    1.000000   \n",
       "50%            153.662293        57970.000000   42080.000000    1.000000   \n",
       "75%            232.185466        70550.000000   50775.000000    2.000000   \n",
       "max            301.344997       114920.000000   79560.000000    3.000000   \n",
       "\n",
       "       number_of_vehicles_involved  policy_deductable  umbrella_limit  \n",
       "count                   999.000000         999.000000    9.990000e+02  \n",
       "mean                      1.839840        1136.636637    1.103103e+06  \n",
       "std                       1.019044         611.839681    2.297594e+06  \n",
       "min                       1.000000         500.000000    0.000000e+00  \n",
       "25%                       1.000000         500.000000    0.000000e+00  \n",
       "50%                       1.000000        1000.000000    0.000000e+00  \n",
       "75%                       3.000000        2000.000000    0.000000e+00  \n",
       "max                       4.000000        2000.000000    1.000000e+07  "
      ]
     },
     "execution_count": 37,
     "metadata": {},
     "output_type": "execute_result"
    }
   ],
   "source": [
    "# Create new dataset with quantitative variables\n",
    "dfClaims_quant = dfClaims.filter(['months_bf_incident', 'total_claim_amount', 'witnesses', 'policy_deductable', 'umbrella_limit'], axis=1)\n",
    "dfClaims_quant.describe()"
   ]
  },
  {
   "cell_type": "code",
   "execution_count": 38,
   "metadata": {},
   "outputs": [
    {
     "data": {
      "text/html": [
       "<div>\n",
       "<style scoped>\n",
       "    .dataframe tbody tr th:only-of-type {\n",
       "        vertical-align: middle;\n",
       "    }\n",
       "\n",
       "    .dataframe tbody tr th {\n",
       "        vertical-align: top;\n",
       "    }\n",
       "\n",
       "    .dataframe thead th {\n",
       "        text-align: right;\n",
       "    }\n",
       "</style>\n",
       "<table border=\"1\" class=\"dataframe\">\n",
       "  <thead>\n",
       "    <tr style=\"text-align: right;\">\n",
       "      <th></th>\n",
       "      <th>months_bf_incident</th>\n",
       "      <th>total_claim_amount</th>\n",
       "      <th>vehicle_claim</th>\n",
       "      <th>witnesses</th>\n",
       "      <th>number_of_vehicles_involved</th>\n",
       "      <th>policy_deductable</th>\n",
       "      <th>umbrella_limit</th>\n",
       "    </tr>\n",
       "  </thead>\n",
       "  <tbody>\n",
       "    <tr>\n",
       "      <th>count</th>\n",
       "      <td>247.000000</td>\n",
       "      <td>247.000000</td>\n",
       "      <td>247.000000</td>\n",
       "      <td>247.000000</td>\n",
       "      <td>247.000000</td>\n",
       "      <td>247.000000</td>\n",
       "      <td>2.470000e+02</td>\n",
       "    </tr>\n",
       "    <tr>\n",
       "      <th>mean</th>\n",
       "      <td>155.847076</td>\n",
       "      <td>60302.105263</td>\n",
       "      <td>43533.643725</td>\n",
       "      <td>1.582996</td>\n",
       "      <td>1.931174</td>\n",
       "      <td>1151.821862</td>\n",
       "      <td>1.336032e+06</td>\n",
       "    </tr>\n",
       "    <tr>\n",
       "      <th>std</th>\n",
       "      <td>87.874222</td>\n",
       "      <td>20746.279567</td>\n",
       "      <td>14849.388907</td>\n",
       "      <td>1.066962</td>\n",
       "      <td>1.047315</td>\n",
       "      <td>628.123674</td>\n",
       "      <td>2.494799e+06</td>\n",
       "    </tr>\n",
       "    <tr>\n",
       "      <th>min</th>\n",
       "      <td>2.694100</td>\n",
       "      <td>2860.000000</td>\n",
       "      <td>2080.000000</td>\n",
       "      <td>0.000000</td>\n",
       "      <td>1.000000</td>\n",
       "      <td>500.000000</td>\n",
       "      <td>0.000000e+00</td>\n",
       "    </tr>\n",
       "    <tr>\n",
       "      <th>25%</th>\n",
       "      <td>82.958582</td>\n",
       "      <td>51910.000000</td>\n",
       "      <td>37170.000000</td>\n",
       "      <td>1.000000</td>\n",
       "      <td>1.000000</td>\n",
       "      <td>500.000000</td>\n",
       "      <td>0.000000e+00</td>\n",
       "    </tr>\n",
       "    <tr>\n",
       "      <th>50%</th>\n",
       "      <td>152.380952</td>\n",
       "      <td>61290.000000</td>\n",
       "      <td>44800.000000</td>\n",
       "      <td>2.000000</td>\n",
       "      <td>1.000000</td>\n",
       "      <td>1000.000000</td>\n",
       "      <td>0.000000e+00</td>\n",
       "    </tr>\n",
       "    <tr>\n",
       "      <th>75%</th>\n",
       "      <td>233.368242</td>\n",
       "      <td>72665.000000</td>\n",
       "      <td>52080.000000</td>\n",
       "      <td>2.000000</td>\n",
       "      <td>3.000000</td>\n",
       "      <td>2000.000000</td>\n",
       "      <td>0.000000e+00</td>\n",
       "    </tr>\n",
       "    <tr>\n",
       "      <th>max</th>\n",
       "      <td>299.767962</td>\n",
       "      <td>112320.000000</td>\n",
       "      <td>77760.000000</td>\n",
       "      <td>3.000000</td>\n",
       "      <td>4.000000</td>\n",
       "      <td>2000.000000</td>\n",
       "      <td>1.000000e+07</td>\n",
       "    </tr>\n",
       "  </tbody>\n",
       "</table>\n",
       "</div>"
      ],
      "text/plain": [
       "       months_bf_incident  total_claim_amount  vehicle_claim   witnesses  \\\n",
       "count          247.000000          247.000000     247.000000  247.000000   \n",
       "mean           155.847076        60302.105263   43533.643725    1.582996   \n",
       "std             87.874222        20746.279567   14849.388907    1.066962   \n",
       "min              2.694100         2860.000000    2080.000000    0.000000   \n",
       "25%             82.958582        51910.000000   37170.000000    1.000000   \n",
       "50%            152.380952        61290.000000   44800.000000    2.000000   \n",
       "75%            233.368242        72665.000000   52080.000000    2.000000   \n",
       "max            299.767962       112320.000000   77760.000000    3.000000   \n",
       "\n",
       "       number_of_vehicles_involved  policy_deductable  umbrella_limit  \n",
       "count                   247.000000         247.000000    2.470000e+02  \n",
       "mean                      1.931174        1151.821862    1.336032e+06  \n",
       "std                       1.047315         628.123674    2.494799e+06  \n",
       "min                       1.000000         500.000000    0.000000e+00  \n",
       "25%                       1.000000         500.000000    0.000000e+00  \n",
       "50%                       1.000000        1000.000000    0.000000e+00  \n",
       "75%                       3.000000        2000.000000    0.000000e+00  \n",
       "max                       4.000000        2000.000000    1.000000e+07  "
      ]
     },
     "execution_count": 38,
     "metadata": {},
     "output_type": "execute_result"
    }
   ],
   "source": [
    "# Create new dataset with quantitative variables - fraud reported\n",
    "fraudY2_quant = fraudY2.filter(['months_bf_incident', 'total_claim_amount', 'vehicle_claim', 'witnesses', 'number_of_vehicles_involved', 'policy_deductable', 'umbrella_limit'], axis=1)\n",
    "fraudY2_quant.describe()"
   ]
  },
  {
   "cell_type": "code",
   "execution_count": 39,
   "metadata": {},
   "outputs": [
    {
     "data": {
      "text/html": [
       "<div>\n",
       "<style scoped>\n",
       "    .dataframe tbody tr th:only-of-type {\n",
       "        vertical-align: middle;\n",
       "    }\n",
       "\n",
       "    .dataframe tbody tr th {\n",
       "        vertical-align: top;\n",
       "    }\n",
       "\n",
       "    .dataframe thead th {\n",
       "        text-align: right;\n",
       "    }\n",
       "</style>\n",
       "<table border=\"1\" class=\"dataframe\">\n",
       "  <thead>\n",
       "    <tr style=\"text-align: right;\">\n",
       "      <th></th>\n",
       "      <th>months_bf_incident</th>\n",
       "      <th>total_claim_amount</th>\n",
       "      <th>vehicle_claim</th>\n",
       "      <th>witnesses</th>\n",
       "      <th>number_of_vehicles_involved</th>\n",
       "      <th>policy_deductable</th>\n",
       "      <th>umbrella_limit</th>\n",
       "    </tr>\n",
       "  </thead>\n",
       "  <tbody>\n",
       "    <tr>\n",
       "      <th>count</th>\n",
       "      <td>752.000000</td>\n",
       "      <td>752.000000</td>\n",
       "      <td>752.000000</td>\n",
       "      <td>752.000000</td>\n",
       "      <td>752.000000</td>\n",
       "      <td>752.000000</td>\n",
       "      <td>7.520000e+02</td>\n",
       "    </tr>\n",
       "    <tr>\n",
       "      <th>mean</th>\n",
       "      <td>155.548915</td>\n",
       "      <td>50230.265957</td>\n",
       "      <td>36047.420213</td>\n",
       "      <td>1.456117</td>\n",
       "      <td>1.809840</td>\n",
       "      <td>1131.648936</td>\n",
       "      <td>1.026596e+06</td>\n",
       "    </tr>\n",
       "    <tr>\n",
       "      <th>std</th>\n",
       "      <td>88.456660</td>\n",
       "      <td>27547.003973</td>\n",
       "      <td>19675.642596</td>\n",
       "      <td>1.125040</td>\n",
       "      <td>1.008491</td>\n",
       "      <td>606.738410</td>\n",
       "      <td>2.225463e+06</td>\n",
       "    </tr>\n",
       "    <tr>\n",
       "      <th>min</th>\n",
       "      <td>-0.657098</td>\n",
       "      <td>100.000000</td>\n",
       "      <td>70.000000</td>\n",
       "      <td>0.000000</td>\n",
       "      <td>1.000000</td>\n",
       "      <td>500.000000</td>\n",
       "      <td>0.000000e+00</td>\n",
       "    </tr>\n",
       "    <tr>\n",
       "      <th>25%</th>\n",
       "      <td>80.428756</td>\n",
       "      <td>34650.000000</td>\n",
       "      <td>25200.000000</td>\n",
       "      <td>0.000000</td>\n",
       "      <td>1.000000</td>\n",
       "      <td>500.000000</td>\n",
       "      <td>0.000000e+00</td>\n",
       "    </tr>\n",
       "    <tr>\n",
       "      <th>50%</th>\n",
       "      <td>154.762931</td>\n",
       "      <td>56475.000000</td>\n",
       "      <td>41190.000000</td>\n",
       "      <td>1.000000</td>\n",
       "      <td>1.000000</td>\n",
       "      <td>1000.000000</td>\n",
       "      <td>0.000000e+00</td>\n",
       "    </tr>\n",
       "    <tr>\n",
       "      <th>75%</th>\n",
       "      <td>232.111542</td>\n",
       "      <td>69480.000000</td>\n",
       "      <td>49935.000000</td>\n",
       "      <td>2.000000</td>\n",
       "      <td>3.000000</td>\n",
       "      <td>2000.000000</td>\n",
       "      <td>0.000000e+00</td>\n",
       "    </tr>\n",
       "    <tr>\n",
       "      <th>max</th>\n",
       "      <td>301.344997</td>\n",
       "      <td>114920.000000</td>\n",
       "      <td>79560.000000</td>\n",
       "      <td>3.000000</td>\n",
       "      <td>4.000000</td>\n",
       "      <td>2000.000000</td>\n",
       "      <td>1.000000e+07</td>\n",
       "    </tr>\n",
       "  </tbody>\n",
       "</table>\n",
       "</div>"
      ],
      "text/plain": [
       "       months_bf_incident  total_claim_amount  vehicle_claim   witnesses  \\\n",
       "count          752.000000          752.000000     752.000000  752.000000   \n",
       "mean           155.548915        50230.265957   36047.420213    1.456117   \n",
       "std             88.456660        27547.003973   19675.642596    1.125040   \n",
       "min             -0.657098          100.000000      70.000000    0.000000   \n",
       "25%             80.428756        34650.000000   25200.000000    0.000000   \n",
       "50%            154.762931        56475.000000   41190.000000    1.000000   \n",
       "75%            232.111542        69480.000000   49935.000000    2.000000   \n",
       "max            301.344997       114920.000000   79560.000000    3.000000   \n",
       "\n",
       "       number_of_vehicles_involved  policy_deductable  umbrella_limit  \n",
       "count                   752.000000         752.000000    7.520000e+02  \n",
       "mean                      1.809840        1131.648936    1.026596e+06  \n",
       "std                       1.008491         606.738410    2.225463e+06  \n",
       "min                       1.000000         500.000000    0.000000e+00  \n",
       "25%                       1.000000         500.000000    0.000000e+00  \n",
       "50%                       1.000000        1000.000000    0.000000e+00  \n",
       "75%                       3.000000        2000.000000    0.000000e+00  \n",
       "max                       4.000000        2000.000000    1.000000e+07  "
      ]
     },
     "execution_count": 39,
     "metadata": {},
     "output_type": "execute_result"
    }
   ],
   "source": [
    "# Create new dataset with quantitative variables - no fraud reported\n",
    "fraudN2_quant = fraudN2.filter(['months_bf_incident', 'total_claim_amount', 'vehicle_claim', 'witnesses', 'number_of_vehicles_involved', 'policy_deductable', 'umbrella_limit'], axis=1)\n",
    "fraudN2_quant.describe()"
   ]
  },
  {
   "cell_type": "code",
   "execution_count": 40,
   "metadata": {},
   "outputs": [
    {
     "name": "stdout",
     "output_type": "stream",
     "text": [
      "Requirement already satisfied: tabulate in c:\\users\\trave\\anaconda3\\lib\\site-packages (0.8.7)\n",
      "Note: you may need to restart the kernel to use updated packages.\n"
     ]
    }
   ],
   "source": [
    "pip install tabulate"
   ]
  },
  {
   "cell_type": "code",
   "execution_count": 41,
   "metadata": {},
   "outputs": [],
   "source": [
    "# compute kurtosis and skew statistics\n",
    "monthsStats = scipy.stats.describe(dfClaims.months_bf_incident, ddof=1, bias=False)\n",
    "totalClaimStats = scipy.stats.describe(dfClaims.total_claim_amount, ddof=1, bias=False)\n",
    "vehicleClaimStats = scipy.stats.describe(dfClaims.vehicle_claim, ddof=1, bias=False)\n",
    "numVehiclesStats = scipy.stats.describe(dfClaims.number_of_vehicles_involved, ddof=1, bias=False)\n",
    "umbrellaStats = scipy.stats.describe(dfClaims.umbrella_limit, ddof=1, bias=False)\n",
    "deductibleStats = scipy.stats.describe(dfClaims.policy_deductable, ddof=1, bias=False)\n",
    "witnessesStats = scipy.stats.describe(dfClaims.witnesses, ddof=1, bias=False)\n",
    "monthsStatsY = scipy.stats.describe(fraudY2.months_bf_incident, ddof=1, bias=False)\n",
    "totalClaimStatsY = scipy.stats.describe(fraudY2.total_claim_amount, ddof=1, bias=False)\n",
    "vehicleClaimStatsY = scipy.stats.describe(fraudY2.vehicle_claim, ddof=1, bias=False)\n",
    "numVehiclesStatsY = scipy.stats.describe(fraudY2.number_of_vehicles_involved, ddof=1, bias=False)\n",
    "umbrellaStatsY = scipy.stats.describe(fraudY2.umbrella_limit, ddof=1, bias=False)\n",
    "deductibleStatsY = scipy.stats.describe(fraudY2.policy_deductable, ddof=1, bias=False)\n",
    "witnessesStatsY = scipy.stats.describe(fraudY2.witnesses, ddof=1, bias=False)\n",
    "monthsStatsN = scipy.stats.describe(fraudN2.months_bf_incident, ddof=1, bias=False)\n",
    "totalClaimStatsN = scipy.stats.describe(fraudN2.total_claim_amount, ddof=1, bias=False)\n",
    "vehicleClaimStatsN = scipy.stats.describe(fraudN2.vehicle_claim, ddof=1, bias=False)\n",
    "numVehiclesStatsN = scipy.stats.describe(fraudN2.number_of_vehicles_involved, ddof=1, bias=False)\n",
    "umbrellaStatsN = scipy.stats.describe(fraudN2.umbrella_limit, ddof=1, bias=False)\n",
    "deductibleStatsN = scipy.stats.describe(fraudN2.policy_deductable, ddof=1, bias=False)\n",
    "witnessesStatsN = scipy.stats.describe(fraudN2.witnesses, ddof=1, bias=False)"
   ]
  },
  {
   "cell_type": "code",
   "execution_count": 42,
   "metadata": {},
   "outputs": [
    {
     "name": "stdout",
     "output_type": "stream",
     "text": [
      "| Variable               |       Mode |         Variance |      Range |   Skewness |   Kurtosis |\n",
      "|------------------------+------------+------------------+------------+------------+------------|\n",
      "| Months before incident |    62.3914 |   7791.44        |    302.002 | -0.0508087 |  -1.20225  |\n",
      "| Total Claim Amount     | 59400      |      6.9602e+08  | 114820     | -0.595646  |  -0.453894 |\n",
      "| Vehicle Claim Amounts  |  5040      |      3.56112e+08 |  79490     | -0.622627  |  -0.446648 |\n",
      "| Vehicles Involved      |     1      |      1.03845     |      3     |  0.501009  |  -1.50205  |\n",
      "| Umbrella Limit         |     0      |      5.27894e+12 |      1e+07 |  1.8061    |   1.78799  |\n",
      "| Deductable Amount      |  1000      | 374348           |   1500     |  0.476426  |  -1.37821  |\n",
      "| Witnesses              |     1      |      1.23607     |      3     |  0.0183986 |  -1.34473  |\n"
     ]
    }
   ],
   "source": [
    "from tabulate import tabulate\n",
    "statsQuant = [[\"Months before incident\", dfClaims.months_bf_incident.mode(), dfClaims.months_bf_incident.var(), dfClaims.months_bf_incident.max() - dfClaims.months_bf_incident.min(), monthsStats.skewness, monthsStats.kurtosis], \n",
    "              ['Total Claim Amount', dfClaims.total_claim_amount.mode(), dfClaims.total_claim_amount.var(), dfClaims.total_claim_amount.max() - dfClaims.total_claim_amount.min(), totalClaimStats.skewness, totalClaimStats.kurtosis], \n",
    "              ['Vehicle Claim Amounts', dfClaims.vehicle_claim.mode(), dfClaims.vehicle_claim.var(), dfClaims.vehicle_claim.max() - dfClaims.vehicle_claim.min(), vehicleClaimStats.skewness, vehicleClaimStats.kurtosis], \n",
    "              ['Vehicles Involved', dfClaims.number_of_vehicles_involved.mode(), dfClaims.number_of_vehicles_involved.var(), dfClaims.number_of_vehicles_involved.max() - dfClaims.number_of_vehicles_involved.min(), numVehiclesStats.skewness, numVehiclesStats.kurtosis], \n",
    "              ['Umbrella Limit', dfClaims.umbrella_limit.mode(), dfClaims.umbrella_limit.var(), dfClaims.umbrella_limit.max() - dfClaims.umbrella_limit.min(), umbrellaStats.skewness, umbrellaStats.kurtosis], \n",
    "              ['Deductable Amount', dfClaims.policy_deductable.mode(), dfClaims.policy_deductable.var(), dfClaims.policy_deductable.max() - dfClaims.policy_deductable.min(), deductibleStats.skewness, deductibleStats.kurtosis], \n",
    "              ['Witnesses', dfClaims.witnesses.mode(), dfClaims.witnesses.var(), dfClaims.witnesses.max() - dfClaims.witnesses.min(), witnessesStats.skewness, witnessesStats.kurtosis]]\n",
    "tableQuant = tabulate(statsQuant, headers=['Variable', 'Mode', 'Variance', 'Range', 'Skewness', 'Kurtosis'], tablefmt='orgtbl')\n",
    "print(tableQuant)"
   ]
  },
  {
   "cell_type": "code",
   "execution_count": 43,
   "metadata": {},
   "outputs": [
    {
     "name": "stdout",
     "output_type": "stream",
     "text": [
      "| Variable               | Mode           |         Variance |      Range |   Skewness |   Kurtosis |\n",
      "|------------------------+----------------+------------------+------------+------------+------------|\n",
      "| Months before incident | 0    62.391425 |   7721.88        |    297.074 |  -0.103498 |   -1.18728 |\n",
      "|                        | dtype: float64 |                  |            |            |            |\n",
      "| Total Claim Amount     | 0    55000     |      4.30408e+08 | 109460     |  -0.820915 |    1.39238 |\n",
      "|                        | 1    59400     |                  |            |            |            |\n",
      "|                        | 2    75400     |                  |            |            |            |\n",
      "|                        | dtype: int64   |                  |            |            |            |\n",
      "| Vehicle Claim Amounts  | 0    38850     |      2.20504e+08 |  75680     |  -0.843381 |    1.49067 |\n",
      "|                        | 1    45360     |                  |            |            |            |\n",
      "|                        | 2    46800     |                  |            |            |            |\n",
      "|                        | 3    52080     |                  |            |            |            |\n",
      "|                        | dtype: int64   |                  |            |            |            |\n",
      "| Vehicles Involved      | 0    1         |      1.09687     |      3     |   0.373853 |   -1.56837 |\n",
      "|                        | dtype: int64   |                  |            |            |            |\n",
      "| Umbrella Limit         | 0    0         |      6.22402e+12 |      1e+07 |   1.56778  |    1.03125 |\n",
      "|                        | dtype: int64   |                  |            |            |            |\n",
      "| Deductable Amount      | 0    500       | 394539           |   1500     |   0.414332 |   -1.49377 |\n",
      "|                        | dtype: int64   |                  |            |            |            |\n",
      "| Witnesses              | 0    2         |      1.13841     |      3     |  -0.11723  |   -1.21972 |\n",
      "|                        | dtype: int64   |                  |            |            |            |\n"
     ]
    }
   ],
   "source": [
    "statsQuantY = [[\"Months before incident\", fraudY2.months_bf_incident.mode(), fraudY2.months_bf_incident.var(), fraudY2.months_bf_incident.max() - fraudY2.months_bf_incident.min(), monthsStatsY.skewness, monthsStatsY.kurtosis], \n",
    "              ['Total Claim Amount', fraudY2.total_claim_amount.mode(), fraudY2.total_claim_amount.var(), fraudY2.total_claim_amount.max() - fraudY2.total_claim_amount.min(), totalClaimStatsY.skewness, totalClaimStatsY.kurtosis], \n",
    "              ['Vehicle Claim Amounts', fraudY2.vehicle_claim.mode(), fraudY2.vehicle_claim.var(), fraudY2.vehicle_claim.max() - fraudY2.vehicle_claim.min(), vehicleClaimStatsY.skewness, vehicleClaimStatsY.kurtosis], \n",
    "              ['Vehicles Involved', fraudY2.number_of_vehicles_involved.mode(), fraudY2.number_of_vehicles_involved.var(), fraudY2.number_of_vehicles_involved.max() - fraudY2.number_of_vehicles_involved.min(), numVehiclesStatsY.skewness, numVehiclesStatsY.kurtosis], \n",
    "              ['Umbrella Limit', fraudY2.umbrella_limit.mode(), fraudY2.umbrella_limit.var(), fraudY2.umbrella_limit.max() - fraudY2.umbrella_limit.min(), umbrellaStatsY.skewness, umbrellaStatsY.kurtosis], \n",
    "              ['Deductable Amount', fraudY2.policy_deductable.mode(), fraudY2.policy_deductable.var(), fraudY2.policy_deductable.max() - fraudY2.policy_deductable.min(), deductibleStatsY.skewness, deductibleStatsY.kurtosis], \n",
    "              ['Witnesses', fraudY2.witnesses.mode(), fraudY2.witnesses.var(), fraudY2.witnesses.max() - fraudY2.witnesses.min(), witnessesStatsY.skewness, witnessesStatsY.kurtosis]]\n",
    "tableQuantY = tabulate(statsQuantY, headers=['Variable', 'Mode', 'Variance', 'Range', 'Skewness', 'Kurtosis'], tablefmt='orgtbl')\n",
    "print(tableQuantY)"
   ]
  },
  {
   "cell_type": "code",
   "execution_count": 44,
   "metadata": {},
   "outputs": [
    {
     "name": "stdout",
     "output_type": "stream",
     "text": [
      "| Variable               | Mode             |         Variance |      Range |   Skewness |   Kurtosis |\n",
      "|------------------------+------------------+------------------+------------+------------+------------|\n",
      "| Months before incident | 0      18.792994 |   7824.58        |    302.002 | -0.0340399 |  -1.20685  |\n",
      "|                        | 1      24.772583 |                  |            |            |            |\n",
      "|                        | 2      53.619171 |                  |            |            |            |\n",
      "|                        | 3      54.243414 |                  |            |            |            |\n",
      "|                        | 4      62.161441 |                  |            |            |            |\n",
      "|                        | 5      81.677242 |                  |            |            |            |\n",
      "|                        | 6      94.424937 |                  |            |            |            |\n",
      "|                        | 7      94.753486 |                  |            |            |            |\n",
      "|                        | 8     112.363704 |                  |            |            |            |\n",
      "|                        | 9     114.827820 |                  |            |            |            |\n",
      "|                        | 10    145.875685 |                  |            |            |            |\n",
      "|                        | 11    160.758948 |                  |            |            |            |\n",
      "|                        | 12    175.543646 |                  |            |            |            |\n",
      "|                        | 13    204.225959 |                  |            |            |            |\n",
      "|                        | 14    214.608103 |                  |            |            |            |\n",
      "|                        | 15    232.185466 |                  |            |            |            |\n",
      "|                        | 16    254.625352 |                  |            |            |            |\n",
      "|                        | 17    270.691390 |                  |            |            |            |\n",
      "|                        | 18    273.188361 |                  |            |            |            |\n",
      "|                        | 19    279.135095 |                  |            |            |            |\n",
      "|                        | dtype: float64   |                  |            |            |            |\n",
      "| Total Claim Amount     | 0    2640        |      7.58837e+08 | 114820     | -0.469569  |  -0.789692 |\n",
      "|                        | 1    3190        |                  |            |            |            |\n",
      "|                        | 2    4320        |                  |            |            |            |\n",
      "|                        | dtype: int64     |                  |            |            |            |\n",
      "| Vehicle Claim Amounts  | 0    5040        |      3.87131e+08 |  79490     | -0.49703   |  -0.798707 |\n",
      "|                        | dtype: int64     |                  |            |            |            |\n",
      "| Vehicles Involved      | 0    1           |      1.01705     |      3     |  0.543977  |  -1.47803  |\n",
      "|                        | dtype: int64     |                  |            |            |            |\n",
      "| Umbrella Limit         | 0    0           |      4.95269e+12 |      1e+07 |  1.89682   |   2.0992   |\n",
      "|                        | dtype: int64     |                  |            |            |            |\n",
      "| Deductable Amount      | 0    1000        | 368131           |   1500     |  0.498183  |  -1.33809  |\n",
      "|                        | dtype: int64     |                  |            |            |            |\n",
      "| Witnesses              | 0    0           |      1.26571     |      3     |  0.0646493 |  -1.37144  |\n",
      "|                        | dtype: int64     |                  |            |            |            |\n"
     ]
    }
   ],
   "source": [
    "statsQuantN = [[\"Months before incident\", fraudN2.months_bf_incident.mode(), fraudN2.months_bf_incident.var(), fraudN2.months_bf_incident.max() - fraudN2.months_bf_incident.min(), monthsStatsN.skewness, monthsStatsN.kurtosis], \n",
    "              ['Total Claim Amount', fraudN2.total_claim_amount.mode(), fraudN2.total_claim_amount.var(), fraudN2.total_claim_amount.max() - fraudN2.total_claim_amount.min(), totalClaimStatsN.skewness, totalClaimStatsN.kurtosis], \n",
    "              ['Vehicle Claim Amounts', fraudN2.vehicle_claim.mode(), fraudN2.vehicle_claim.var(), fraudN2.vehicle_claim.max() - fraudN2.vehicle_claim.min(), vehicleClaimStatsN.skewness, vehicleClaimStatsN.kurtosis], \n",
    "              ['Vehicles Involved', fraudN2.number_of_vehicles_involved.mode(), fraudN2.number_of_vehicles_involved.var(), fraudN2.number_of_vehicles_involved.max() - fraudN2.number_of_vehicles_involved.min(), numVehiclesStatsN.skewness, numVehiclesStatsN.kurtosis], \n",
    "              ['Umbrella Limit', fraudN2.umbrella_limit.mode(), fraudN2.umbrella_limit.var(), fraudN2.umbrella_limit.max() - fraudN2.umbrella_limit.min(), umbrellaStatsN.skewness, umbrellaStatsN.kurtosis], \n",
    "              ['Deductable Amount', fraudN2.policy_deductable.mode(), fraudN2.policy_deductable.var(), fraudN2.policy_deductable.max() - fraudN2.policy_deductable.min(), deductibleStatsN.skewness, deductibleStatsN.kurtosis], \n",
    "              ['Witnesses', fraudN2.witnesses.mode(), fraudN2.witnesses.var(), fraudN2.witnesses.max() - fraudN2.witnesses.min(), witnessesStatsN.skewness, witnessesStatsN.kurtosis]]\n",
    "tableQuantN = tabulate(statsQuantN, headers=['Variable', 'Mode', 'Variance', 'Range', 'Skewness', 'Kurtosis'], tablefmt='orgtbl')\n",
    "print(tableQuantN)"
   ]
  },
  {
   "cell_type": "code",
   "execution_count": 48,
   "metadata": {},
   "outputs": [
    {
     "data": {
      "image/png": "[encoded data removed]",
      "text/plain": [
       "<Figure size 864x432 with 2 Axes>"
      ]
     },
     "metadata": {
      "needs_background": "light"
     },
     "output_type": "display_data"
    }
   ],
   "source": [
    "# pmf\n",
    "# Here are the distributions of incident severity for fraud reported and fraud not reported.\n",
    "fraudY_pmfSev = thinkstats2.Pmf(fraudY2.incident_severity_f, label='Fraud Reported')\n",
    "fraudN_pmfSev = thinkstats2.Pmf(fraudN2.incident_severity_f, label='Fraud Not Reported')\n",
    "\n",
    "# code to plot bar graphs and step function PMFs.\n",
    "width=0.45\n",
    "axis = [-1, 4, -0.20, 0.99]\n",
    "thinkplot.PrePlot(2, cols=2)\n",
    "thinkplot.Hist(fraudY_pmfSev, align='right', width=width)\n",
    "thinkplot.Hist(fraudN_pmfSev, align='left', width=width)\n",
    "thinkplot.Config(xlabel='incident_severity_f', ylabel='PMF', axis=axis)\n",
    "\n",
    "thinkplot.PrePlot(2)\n",
    "thinkplot.SubPlot(2)\n",
    "thinkplot.Pmfs([fraudY_pmfSev, fraudN_pmfSev])\n",
    "thinkplot.Config(xlabel='incident_severity_f', axis=axis)"
   ]
  },
  {
   "cell_type": "code",
   "execution_count": 51,
   "metadata": {},
   "outputs": [
    {
     "data": {
      "image/png": "[encoded data removed]",
      "text/plain": [
       "<Figure size 432x288 with 1 Axes>"
      ]
     },
     "metadata": {
      "needs_background": "light"
     },
     "output_type": "display_data"
    }
   ],
   "source": [
    "# plot cdf = fraud reported\n",
    "cdfTCY = thinkstats2.Cdf(fraudY2.total_claim_amount, label='total_claim_amount - fraud reported')\n",
    "thinkplot.Cdf(cdfTCY)\n",
    "thinkplot.Config(xlabel='total_claim_amount', ylabel='CDF', loc='upper left')"
   ]
  },
  {
   "cell_type": "code",
   "execution_count": 52,
   "metadata": {},
   "outputs": [
    {
     "data": {
      "image/png": "[encoded data removed]",
      "text/plain": [
       "<Figure size 432x288 with 1 Axes>"
      ]
     },
     "metadata": {
      "needs_background": "light"
     },
     "output_type": "display_data"
    }
   ],
   "source": [
    "# plot cdf = no fraud reported\n",
    "cdfTCN = thinkstats2.Cdf(fraudN2.total_claim_amount, label='total_claim_amount no fraud reported')\n",
    "thinkplot.Cdf(cdfTCN)\n",
    "thinkplot.Config(xlabel='total_claim_amount', ylabel='CDF', loc='upper left')"
   ]
  },
  {
   "cell_type": "code",
   "execution_count": 53,
   "metadata": {},
   "outputs": [
    {
     "data": {
      "text/plain": [
       "((array([-2.77005632, -2.46756954, -2.29577765, -2.17308639, -2.07637768,\n",
       "         -1.99590511, -1.92660022, -1.86547617, -1.81061863, -1.76072402,\n",
       "         -1.71486302, -1.6723488 , -1.63265879, -1.59538576, -1.56020597,\n",
       "         -1.52685756, -1.49512565, -1.46483159, -1.43582519, -1.40797894,\n",
       "         -1.38118357, -1.35534475, -1.33038042, -1.30621874, -1.28279645,\n",
       "         -1.26005751, -1.23795207, -1.21643554, -1.1954679 , -1.17501306,\n",
       "         -1.15503839, -1.13551422, -1.11641358, -1.09771179, -1.07938624,\n",
       "         -1.0614162 , -1.04378253, -1.02646759, -1.00945504, -0.99272975,\n",
       "         -0.97627766, -0.96008565, -0.94414154, -0.92843389, -0.91295205,\n",
       "         -0.89768599, -0.88262633, -0.86776423, -0.85309137, -0.83859992,\n",
       "         -0.82428248, -0.81013204, -0.79614199, -0.78230606, -0.76861829,\n",
       "         -0.75507303, -0.74166492, -0.72838883, -0.7152399 , -0.70221349,\n",
       "         -0.68930516, -0.67651067, -0.66382599, -0.65124723, -0.63877068,\n",
       "         -0.62639278, -0.61411012, -0.60191941, -0.58981751, -0.57780139,\n",
       "         -0.56586812, -0.55401489, -0.542239  , -0.53053783, -0.51890885,\n",
       "         -0.50734962, -0.4958578 , -0.48443108, -0.47306728, -0.46176424,\n",
       "         -0.45051989, -0.43933221, -0.42819926, -0.41711913, -0.40608998,\n",
       "         -0.39511   , -0.38417746, -0.37329064, -0.36244788, -0.35164758,\n",
       "         -0.34088813, -0.33016801, -0.3194857 , -0.30883972, -0.29822863,\n",
       "         -0.28765101, -0.27710549, -0.26659069, -0.25610528, -0.24564796,\n",
       "         -0.23521743, -0.22481243, -0.21443171, -0.20407405, -0.19373823,\n",
       "         -0.18342307, -0.1731274 , -0.16285004, -0.15258985, -0.14234571,\n",
       "         -0.13211648, -0.12190105, -0.11169833, -0.10150723, -0.09132666,\n",
       "         -0.08115554, -0.07099282, -0.06083742, -0.05068829, -0.04054438,\n",
       "         -0.03040464, -0.02026802, -0.01013349,  0.        ,  0.01013349,\n",
       "          0.02026802,  0.03040464,  0.04054438,  0.05068829,  0.06083742,\n",
       "          0.07099282,  0.08115554,  0.09132666,  0.10150723,  0.11169833,\n",
       "          0.12190105,  0.13211648,  0.14234571,  0.15258985,  0.16285004,\n",
       "          0.1731274 ,  0.18342307,  0.19373823,  0.20407405,  0.21443171,\n",
       "          0.22481243,  0.23521743,  0.24564796,  0.25610528,  0.26659069,\n",
       "          0.27710549,  0.28765101,  0.29822863,  0.30883972,  0.3194857 ,\n",
       "          0.33016801,  0.34088813,  0.35164758,  0.36244788,  0.37329064,\n",
       "          0.38417746,  0.39511   ,  0.40608998,  0.41711913,  0.42819926,\n",
       "          0.43933221,  0.45051989,  0.46176424,  0.47306728,  0.48443108,\n",
       "          0.4958578 ,  0.50734962,  0.51890885,  0.53053783,  0.542239  ,\n",
       "          0.55401489,  0.56586812,  0.57780139,  0.58981751,  0.60191941,\n",
       "          0.61411012,  0.62639278,  0.63877068,  0.65124723,  0.66382599,\n",
       "          0.67651067,  0.68930516,  0.70221349,  0.7152399 ,  0.72838883,\n",
       "          0.74166492,  0.75507303,  0.76861829,  0.78230606,  0.79614199,\n",
       "          0.81013204,  0.82428248,  0.83859992,  0.85309137,  0.86776423,\n",
       "          0.88262633,  0.89768599,  0.91295205,  0.92843389,  0.94414154,\n",
       "          0.96008565,  0.97627766,  0.99272975,  1.00945504,  1.02646759,\n",
       "          1.04378253,  1.0614162 ,  1.07938624,  1.09771179,  1.11641358,\n",
       "          1.13551422,  1.15503839,  1.17501306,  1.1954679 ,  1.21643554,\n",
       "          1.23795207,  1.26005751,  1.28279645,  1.30621874,  1.33038042,\n",
       "          1.35534475,  1.38118357,  1.40797894,  1.43582519,  1.46483159,\n",
       "          1.49512565,  1.52685756,  1.56020597,  1.59538576,  1.63265879,\n",
       "          1.6723488 ,  1.71486302,  1.76072402,  1.81061863,  1.86547617,\n",
       "          1.92660022,  1.99590511,  2.07637768,  2.17308639,  2.29577765,\n",
       "          2.46756954,  2.77005632]),\n",
       "  array([  2860,   3600,   3900,   4620,   4700,   4730,   5000,   5070,\n",
       "           5300,   5580,   5720,   5940,   6120,   6300,   6400,   6490,\n",
       "          24570,  31350,  32280,  34160,  35300,  35860,  35900,  36720,\n",
       "          36740,  37280,  40260,  40700,  40810,  41580,  42680,  42700,\n",
       "          42700,  43280,  43700,  44200,  44440,  44730,  44880,  45120,\n",
       "          45540,  46200,  46800,  47400,  47630,  47700,  47700,  47760,\n",
       "          47790,  48950,  49100,  49950,  50050,  50300,  50380,  50400,\n",
       "          50800,  50800,  51370,  51390,  51810,  51900,  51920,  52400,\n",
       "          52650,  52700,  52800,  53100,  53100,  53280,  53280,  53400,\n",
       "          53460,  53600,  53600,  53640,  53730,  53820,  54200,  54240,\n",
       "          54360,  54400,  54810,  54960,  55000,  55000,  55000,  55170,\n",
       "          55200,  55200,  55400,  55400,  55440,  55440,  55660,  56160,\n",
       "          56430,  57240,  57690,  57860,  58160,  58300,  58500,  59000,\n",
       "          59100,  59130,  59400,  59400,  59400,  59670,  59800,  59900,\n",
       "          60170,  60190,  60200,  60320,  60390,  60500,  60600,  60750,\n",
       "          60940,  60940,  61050,  61290,  61380,  62800,  62880,  63120,\n",
       "          63250,  63400,  63570,  63580,  63600,  63800,  63840,  64000,\n",
       "          64100,  64100,  64200,  64300,  64350,  64800,  64800,  64890,\n",
       "          65520,  65560,  66480,  66600,  66780,  66880,  66900,  67140,\n",
       "          67300,  67770,  68200,  68200,  68240,  68310,  68520,  68750,\n",
       "          68760,  69000,  69080,  69200,  69480,  69680,  69930,  70000,\n",
       "          70200,  70290,  70400,  70400,  70590,  70600,  70800,  71190,\n",
       "          71280,  71500,  71520,  71610,  71610,  71680,  71760,  72200,\n",
       "          72400,  72930,  73260,  73700,  73920,  74200,  74280,  74360,\n",
       "          74400,  74690,  74700,  74800,  75400,  75400,  75400,  75570,\n",
       "          76010,  76230,  76400,  76560,  77000,  77330,  77660,  78100,\n",
       "          78600,  78650,  78980,  79800,  79800,  79970,  80740,  80850,\n",
       "          81070,  81240,  81360,  81840,  82170,  82320,  82610,  82800,\n",
       "          84100,  84480,  84500,  84590,  84920,  85900,  86130,  87890,\n",
       "          87960,  88660,  89700,  90860,  91520,  92730,  97080,  98160,\n",
       "          98280,  98340,  98670,  99320, 104610, 107900, 112320],\n",
       "        dtype=int64)),\n",
       " (20202.03758342947, 60302.10526315789, 0.9666457290290034))"
      ]
     },
     "execution_count": 53,
     "metadata": {},
     "output_type": "execute_result"
    },
    {
     "data": {
      "image/png": "[encoded data removed]",
      "text/plain": [
       "<Figure size 432x288 with 1 Axes>"
      ]
     },
     "metadata": {
      "needs_background": "light"
     },
     "output_type": "display_data"
    }
   ],
   "source": [
    "# probability plot\n",
    "stats.probplot(fraudY2.total_claim_amount, plot= plt)"
   ]
  },
  {
   "cell_type": "code",
   "execution_count": 54,
   "metadata": {},
   "outputs": [
    {
     "data": {
      "text/plain": [
       "((array([-3.11449077e+00, -2.84275361e+00, -2.69067103e+00, -2.58319028e+00,\n",
       "         -2.49919966e+00, -2.42983495e+00, -2.37050124e+00, -2.31849806e+00,\n",
       "         -2.27209865e+00, -2.23012965e+00, -2.19175612e+00, -2.15636205e+00,\n",
       "         -2.12347952e+00, -2.09274444e+00, -2.06386774e+00, -2.03661596e+00,\n",
       "         -2.01079773e+00, -1.98625415e+00, -1.96285182e+00, -1.94047756e+00,\n",
       "         -1.91903454e+00, -1.89843922e+00, -1.87861902e+00, -1.85951048e+00,\n",
       "         -1.84105772e+00, -1.82321137e+00, -1.80592748e+00, -1.78916683e+00,\n",
       "         -1.77289422e+00, -1.75707796e+00, -1.74168942e+00, -1.72670259e+00,\n",
       "         -1.71209385e+00, -1.69784162e+00, -1.68392615e+00, -1.67032931e+00,\n",
       "         -1.65703445e+00, -1.64402618e+00, -1.63129030e+00, -1.61881366e+00,\n",
       "         -1.60658403e+00, -1.59459008e+00, -1.58282123e+00, -1.57126762e+00,\n",
       "         -1.55992001e+00, -1.54876980e+00, -1.53780888e+00, -1.52702966e+00,\n",
       "         -1.51642500e+00, -1.50598819e+00, -1.49571289e+00, -1.48559313e+00,\n",
       "         -1.47562326e+00, -1.46579794e+00, -1.45611212e+00, -1.44656102e+00,\n",
       "         -1.43714008e+00, -1.42784499e+00, -1.41867166e+00, -1.40961618e+00,\n",
       "         -1.40067483e+00, -1.39184409e+00, -1.38312057e+00, -1.37450105e+00,\n",
       "         -1.36598246e+00, -1.35756186e+00, -1.34923643e+00, -1.34100349e+00,\n",
       "         -1.33286044e+00, -1.32480484e+00, -1.31683430e+00, -1.30894655e+00,\n",
       "         -1.30113940e+00, -1.29341077e+00, -1.28575864e+00, -1.27818105e+00,\n",
       "         -1.27067616e+00, -1.26324217e+00, -1.25587733e+00, -1.24858000e+00,\n",
       "         -1.24134855e+00, -1.23418144e+00, -1.22707718e+00, -1.22003431e+00,\n",
       "         -1.21305144e+00, -1.20612723e+00, -1.19926037e+00, -1.19244959e+00,\n",
       "         -1.18569368e+00, -1.17899147e+00, -1.17234179e+00, -1.16574356e+00,\n",
       "         -1.15919569e+00, -1.15269715e+00, -1.14624693e+00, -1.13984405e+00,\n",
       "         -1.13348756e+00, -1.12717654e+00, -1.12091010e+00, -1.11468737e+00,\n",
       "         -1.10850750e+00, -1.10236969e+00, -1.09627312e+00, -1.09021703e+00,\n",
       "         -1.08420067e+00, -1.07822329e+00, -1.07228419e+00, -1.06638268e+00,\n",
       "         -1.06051807e+00, -1.05468971e+00, -1.04889697e+00, -1.04313920e+00,\n",
       "         -1.03741582e+00, -1.03172621e+00, -1.02606981e+00, -1.02044605e+00,\n",
       "         -1.01485438e+00, -1.00929426e+00, -1.00376517e+00, -9.98266598e-01,\n",
       "         -9.92798042e-01, -9.87359016e-01, -9.81949043e-01, -9.76567659e-01,\n",
       "         -9.71214407e-01, -9.65888844e-01, -9.60590535e-01, -9.55319056e-01,\n",
       "         -9.50073991e-01, -9.44854933e-01, -9.39661486e-01, -9.34493261e-01,\n",
       "         -9.29349877e-01, -9.24230961e-01, -9.19136150e-01, -9.14065085e-01,\n",
       "         -9.09017418e-01, -9.03992806e-01, -8.98990915e-01, -8.94011414e-01,\n",
       "         -8.89053983e-01, -8.84118305e-01, -8.79204072e-01, -8.74310981e-01,\n",
       "         -8.69438733e-01, -8.64587038e-01, -8.59755609e-01, -8.54944167e-01,\n",
       "         -8.50152436e-01, -8.45380145e-01, -8.40627031e-01, -8.35892833e-01,\n",
       "         -8.31177296e-01, -8.26480169e-01, -8.21801206e-01, -8.17140166e-01,\n",
       "         -8.12496811e-01, -8.07870908e-01, -8.03262229e-01, -7.98670548e-01,\n",
       "         -7.94095645e-01, -7.89537302e-01, -7.84995305e-01, -7.80469446e-01,\n",
       "         -7.75959517e-01, -7.71465315e-01, -7.66986642e-01, -7.62523300e-01,\n",
       "         -7.58075098e-01, -7.53641845e-01, -7.49223355e-01, -7.44819444e-01,\n",
       "         -7.40429931e-01, -7.36054638e-01, -7.31693390e-01, -7.27346016e-01,\n",
       "         -7.23012345e-01, -7.18692210e-01, -7.14385447e-01, -7.10091894e-01,\n",
       "         -7.05811392e-01, -7.01543783e-01, -6.97288913e-01, -6.93046629e-01,\n",
       "         -6.88816782e-01, -6.84599222e-01, -6.80393806e-01, -6.76200388e-01,\n",
       "         -6.72018827e-01, -6.67848984e-01, -6.63690722e-01, -6.59543903e-01,\n",
       "         -6.55408396e-01, -6.51284067e-01, -6.47170787e-01, -6.43068427e-01,\n",
       "         -6.38976862e-01, -6.34895966e-01, -6.30825615e-01, -6.26765690e-01,\n",
       "         -6.22716069e-01, -6.18676635e-01, -6.14647271e-01, -6.10627861e-01,\n",
       "         -6.06618292e-01, -6.02618452e-01, -5.98628230e-01, -5.94647517e-01,\n",
       "         -5.90676204e-01, -5.86714186e-01, -5.82761356e-01, -5.78817610e-01,\n",
       "         -5.74882847e-01, -5.70956964e-01, -5.67039861e-01, -5.63131440e-01,\n",
       "         -5.59231602e-01, -5.55340250e-01, -5.51457290e-01, -5.47582627e-01,\n",
       "         -5.43716167e-01, -5.39857819e-01, -5.36007490e-01, -5.32165092e-01,\n",
       "         -5.28330534e-01, -5.24503730e-01, -5.20684591e-01, -5.16873031e-01,\n",
       "         -5.13068966e-01, -5.09272311e-01, -5.05482983e-01, -5.01700900e-01,\n",
       "         -4.97925979e-01, -4.94158140e-01, -4.90397304e-01, -4.86643391e-01,\n",
       "         -4.82896323e-01, -4.79156023e-01, -4.75422415e-01, -4.71695422e-01,\n",
       "         -4.67974970e-01, -4.64260984e-01, -4.60553391e-01, -4.56852118e-01,\n",
       "         -4.53157093e-01, -4.49468245e-01, -4.45785503e-01, -4.42108797e-01,\n",
       "         -4.38438058e-01, -4.34773217e-01, -4.31114206e-01, -4.27460958e-01,\n",
       "         -4.23813407e-01, -4.20171485e-01, -4.16535128e-01, -4.12904270e-01,\n",
       "         -4.09278847e-01, -4.05658796e-01, -4.02044054e-01, -3.98434557e-01,\n",
       "         -3.94830243e-01, -3.91231052e-01, -3.87636921e-01, -3.84047791e-01,\n",
       "         -3.80463601e-01, -3.76884293e-01, -3.73309806e-01, -3.69740083e-01,\n",
       "         -3.66175065e-01, -3.62614695e-01, -3.59058915e-01, -3.55507670e-01,\n",
       "         -3.51960902e-01, -3.48418557e-01, -3.44880578e-01, -3.41346910e-01,\n",
       "         -3.37817500e-01, -3.34292293e-01, -3.30771236e-01, -3.27254274e-01,\n",
       "         -3.23741356e-01, -3.20232429e-01, -3.16727439e-01, -3.13226337e-01,\n",
       "         -3.09729070e-01, -3.06235587e-01, -3.02745837e-01, -2.99259770e-01,\n",
       "         -2.95777337e-01, -2.92298487e-01, -2.88823170e-01, -2.85351339e-01,\n",
       "         -2.81882944e-01, -2.78417936e-01, -2.74956268e-01, -2.71497892e-01,\n",
       "         -2.68042759e-01, -2.64590824e-01, -2.61142039e-01, -2.57696357e-01,\n",
       "         -2.54253732e-01, -2.50814117e-01, -2.47377468e-01, -2.43943737e-01,\n",
       "         -2.40512881e-01, -2.37084853e-01, -2.33659609e-01, -2.30237104e-01,\n",
       "         -2.26817294e-01, -2.23400134e-01, -2.19985581e-01, -2.16573591e-01,\n",
       "         -2.13164121e-01, -2.09757126e-01, -2.06352565e-01, -2.02950394e-01,\n",
       "         -1.99550570e-01, -1.96153051e-01, -1.92757795e-01, -1.89364760e-01,\n",
       "         -1.85973903e-01, -1.82585184e-01, -1.79198560e-01, -1.75813989e-01,\n",
       "         -1.72431432e-01, -1.69050846e-01, -1.65672191e-01, -1.62295427e-01,\n",
       "         -1.58920512e-01, -1.55547406e-01, -1.52176069e-01, -1.48806461e-01,\n",
       "         -1.45438541e-01, -1.42072270e-01, -1.38707609e-01, -1.35344517e-01,\n",
       "         -1.31982955e-01, -1.28622884e-01, -1.25264264e-01, -1.21907057e-01,\n",
       "         -1.18551224e-01, -1.15196725e-01, -1.11843521e-01, -1.08491575e-01,\n",
       "         -1.05140847e-01, -1.01791300e-01, -9.84428937e-02, -9.50955911e-02,\n",
       "         -9.17493536e-02, -8.84041432e-02, -8.50599217e-02, -8.17166513e-02,\n",
       "         -7.83742940e-02, -7.50328120e-02, -7.16921676e-02, -6.83523231e-02,\n",
       "         -6.50132408e-02, -6.16748833e-02, -5.83372130e-02, -5.50001924e-02,\n",
       "         -5.16637842e-02, -4.83279509e-02, -4.49926554e-02, -4.16578603e-02,\n",
       "         -3.83235284e-02, -3.49896226e-02, -3.16561056e-02, -2.83229403e-02,\n",
       "         -2.49900897e-02, -2.16575166e-02, -1.83251841e-02, -1.49930550e-02,\n",
       "         -1.16610924e-02, -8.32925926e-03, -4.99751858e-03, -1.66583336e-03,\n",
       "          1.66583336e-03,  4.99751858e-03,  8.32925926e-03,  1.16610924e-02,\n",
       "          1.49930550e-02,  1.83251841e-02,  2.16575166e-02,  2.49900897e-02,\n",
       "          2.83229403e-02,  3.16561056e-02,  3.49896226e-02,  3.83235284e-02,\n",
       "          4.16578603e-02,  4.49926554e-02,  4.83279509e-02,  5.16637842e-02,\n",
       "          5.50001924e-02,  5.83372130e-02,  6.16748833e-02,  6.50132408e-02,\n",
       "          6.83523231e-02,  7.16921676e-02,  7.50328120e-02,  7.83742940e-02,\n",
       "          8.17166513e-02,  8.50599217e-02,  8.84041432e-02,  9.17493536e-02,\n",
       "          9.50955911e-02,  9.84428937e-02,  1.01791300e-01,  1.05140847e-01,\n",
       "          1.08491575e-01,  1.11843521e-01,  1.15196725e-01,  1.18551224e-01,\n",
       "          1.21907057e-01,  1.25264264e-01,  1.28622884e-01,  1.31982955e-01,\n",
       "          1.35344517e-01,  1.38707609e-01,  1.42072270e-01,  1.45438541e-01,\n",
       "          1.48806461e-01,  1.52176069e-01,  1.55547406e-01,  1.58920512e-01,\n",
       "          1.62295427e-01,  1.65672191e-01,  1.69050846e-01,  1.72431432e-01,\n",
       "          1.75813989e-01,  1.79198560e-01,  1.82585184e-01,  1.85973903e-01,\n",
       "          1.89364760e-01,  1.92757795e-01,  1.96153051e-01,  1.99550570e-01,\n",
       "          2.02950394e-01,  2.06352565e-01,  2.09757126e-01,  2.13164121e-01,\n",
       "          2.16573591e-01,  2.19985581e-01,  2.23400134e-01,  2.26817294e-01,\n",
       "          2.30237104e-01,  2.33659609e-01,  2.37084853e-01,  2.40512881e-01,\n",
       "          2.43943737e-01,  2.47377468e-01,  2.50814117e-01,  2.54253732e-01,\n",
       "          2.57696357e-01,  2.61142039e-01,  2.64590824e-01,  2.68042759e-01,\n",
       "          2.71497892e-01,  2.74956268e-01,  2.78417936e-01,  2.81882944e-01,\n",
       "          2.85351339e-01,  2.88823170e-01,  2.92298487e-01,  2.95777337e-01,\n",
       "          2.99259770e-01,  3.02745837e-01,  3.06235587e-01,  3.09729070e-01,\n",
       "          3.13226337e-01,  3.16727439e-01,  3.20232429e-01,  3.23741356e-01,\n",
       "          3.27254274e-01,  3.30771236e-01,  3.34292293e-01,  3.37817500e-01,\n",
       "          3.41346910e-01,  3.44880578e-01,  3.48418557e-01,  3.51960902e-01,\n",
       "          3.55507670e-01,  3.59058915e-01,  3.62614695e-01,  3.66175065e-01,\n",
       "          3.69740083e-01,  3.73309806e-01,  3.76884293e-01,  3.80463601e-01,\n",
       "          3.84047791e-01,  3.87636921e-01,  3.91231052e-01,  3.94830243e-01,\n",
       "          3.98434557e-01,  4.02044054e-01,  4.05658796e-01,  4.09278847e-01,\n",
       "          4.12904270e-01,  4.16535128e-01,  4.20171485e-01,  4.23813407e-01,\n",
       "          4.27460958e-01,  4.31114206e-01,  4.34773217e-01,  4.38438058e-01,\n",
       "          4.42108797e-01,  4.45785503e-01,  4.49468245e-01,  4.53157093e-01,\n",
       "          4.56852118e-01,  4.60553391e-01,  4.64260984e-01,  4.67974970e-01,\n",
       "          4.71695422e-01,  4.75422415e-01,  4.79156023e-01,  4.82896323e-01,\n",
       "          4.86643391e-01,  4.90397304e-01,  4.94158140e-01,  4.97925979e-01,\n",
       "          5.01700900e-01,  5.05482983e-01,  5.09272311e-01,  5.13068966e-01,\n",
       "          5.16873031e-01,  5.20684591e-01,  5.24503730e-01,  5.28330534e-01,\n",
       "          5.32165092e-01,  5.36007490e-01,  5.39857819e-01,  5.43716167e-01,\n",
       "          5.47582627e-01,  5.51457290e-01,  5.55340250e-01,  5.59231602e-01,\n",
       "          5.63131440e-01,  5.67039861e-01,  5.70956964e-01,  5.74882847e-01,\n",
       "          5.78817610e-01,  5.82761356e-01,  5.86714186e-01,  5.90676204e-01,\n",
       "          5.94647517e-01,  5.98628230e-01,  6.02618452e-01,  6.06618292e-01,\n",
       "          6.10627861e-01,  6.14647271e-01,  6.18676635e-01,  6.22716069e-01,\n",
       "          6.26765690e-01,  6.30825615e-01,  6.34895966e-01,  6.38976862e-01,\n",
       "          6.43068427e-01,  6.47170787e-01,  6.51284067e-01,  6.55408396e-01,\n",
       "          6.59543903e-01,  6.63690722e-01,  6.67848984e-01,  6.72018827e-01,\n",
       "          6.76200388e-01,  6.80393806e-01,  6.84599222e-01,  6.88816782e-01,\n",
       "          6.93046629e-01,  6.97288913e-01,  7.01543783e-01,  7.05811392e-01,\n",
       "          7.10091894e-01,  7.14385447e-01,  7.18692210e-01,  7.23012345e-01,\n",
       "          7.27346016e-01,  7.31693390e-01,  7.36054638e-01,  7.40429931e-01,\n",
       "          7.44819444e-01,  7.49223355e-01,  7.53641845e-01,  7.58075098e-01,\n",
       "          7.62523300e-01,  7.66986642e-01,  7.71465315e-01,  7.75959517e-01,\n",
       "          7.80469446e-01,  7.84995305e-01,  7.89537302e-01,  7.94095645e-01,\n",
       "          7.98670548e-01,  8.03262229e-01,  8.07870908e-01,  8.12496811e-01,\n",
       "          8.17140166e-01,  8.21801206e-01,  8.26480169e-01,  8.31177296e-01,\n",
       "          8.35892833e-01,  8.40627031e-01,  8.45380145e-01,  8.50152436e-01,\n",
       "          8.54944167e-01,  8.59755609e-01,  8.64587038e-01,  8.69438733e-01,\n",
       "          8.74310981e-01,  8.79204072e-01,  8.84118305e-01,  8.89053983e-01,\n",
       "          8.94011414e-01,  8.98990915e-01,  9.03992806e-01,  9.09017418e-01,\n",
       "          9.14065085e-01,  9.19136150e-01,  9.24230961e-01,  9.29349877e-01,\n",
       "          9.34493261e-01,  9.39661486e-01,  9.44854933e-01,  9.50073991e-01,\n",
       "          9.55319056e-01,  9.60590535e-01,  9.65888844e-01,  9.71214407e-01,\n",
       "          9.76567659e-01,  9.81949043e-01,  9.87359016e-01,  9.92798042e-01,\n",
       "          9.98266598e-01,  1.00376517e+00,  1.00929426e+00,  1.01485438e+00,\n",
       "          1.02044605e+00,  1.02606981e+00,  1.03172621e+00,  1.03741582e+00,\n",
       "          1.04313920e+00,  1.04889697e+00,  1.05468971e+00,  1.06051807e+00,\n",
       "          1.06638268e+00,  1.07228419e+00,  1.07822329e+00,  1.08420067e+00,\n",
       "          1.09021703e+00,  1.09627312e+00,  1.10236969e+00,  1.10850750e+00,\n",
       "          1.11468737e+00,  1.12091010e+00,  1.12717654e+00,  1.13348756e+00,\n",
       "          1.13984405e+00,  1.14624693e+00,  1.15269715e+00,  1.15919569e+00,\n",
       "          1.16574356e+00,  1.17234179e+00,  1.17899147e+00,  1.18569368e+00,\n",
       "          1.19244959e+00,  1.19926037e+00,  1.20612723e+00,  1.21305144e+00,\n",
       "          1.22003431e+00,  1.22707718e+00,  1.23418144e+00,  1.24134855e+00,\n",
       "          1.24858000e+00,  1.25587733e+00,  1.26324217e+00,  1.27067616e+00,\n",
       "          1.27818105e+00,  1.28575864e+00,  1.29341077e+00,  1.30113940e+00,\n",
       "          1.30894655e+00,  1.31683430e+00,  1.32480484e+00,  1.33286044e+00,\n",
       "          1.34100349e+00,  1.34923643e+00,  1.35756186e+00,  1.36598246e+00,\n",
       "          1.37450105e+00,  1.38312057e+00,  1.39184409e+00,  1.40067483e+00,\n",
       "          1.40961618e+00,  1.41867166e+00,  1.42784499e+00,  1.43714008e+00,\n",
       "          1.44656102e+00,  1.45611212e+00,  1.46579794e+00,  1.47562326e+00,\n",
       "          1.48559313e+00,  1.49571289e+00,  1.50598819e+00,  1.51642500e+00,\n",
       "          1.52702966e+00,  1.53780888e+00,  1.54876980e+00,  1.55992001e+00,\n",
       "          1.57126762e+00,  1.58282123e+00,  1.59459008e+00,  1.60658403e+00,\n",
       "          1.61881366e+00,  1.63129030e+00,  1.64402618e+00,  1.65703445e+00,\n",
       "          1.67032931e+00,  1.68392615e+00,  1.69784162e+00,  1.71209385e+00,\n",
       "          1.72670259e+00,  1.74168942e+00,  1.75707796e+00,  1.77289422e+00,\n",
       "          1.78916683e+00,  1.80592748e+00,  1.82321137e+00,  1.84105772e+00,\n",
       "          1.85951048e+00,  1.87861902e+00,  1.89843922e+00,  1.91903454e+00,\n",
       "          1.94047756e+00,  1.96285182e+00,  1.98625415e+00,  2.01079773e+00,\n",
       "          2.03661596e+00,  2.06386774e+00,  2.09274444e+00,  2.12347952e+00,\n",
       "          2.15636205e+00,  2.19175612e+00,  2.23012965e+00,  2.27209865e+00,\n",
       "          2.31849806e+00,  2.37050124e+00,  2.42983495e+00,  2.49919966e+00,\n",
       "          2.58319028e+00,  2.69067103e+00,  2.84275361e+00,  3.11449077e+00]),\n",
       "  array([   100,   1920,   2160,   2250,   2400,   2520,   2640,   2640,\n",
       "           2640,   2640,   2700,   2700,   2800,   2970,   3080,   3080,\n",
       "           3190,   3190,   3190,   3190,   3200,   3200,   3300,   3300,\n",
       "           3440,   3520,   3600,   3690,   3740,   3770,   3840,   3840,\n",
       "           3850,   3870,   3900,   3960,   3960,   4100,   4200,   4200,\n",
       "           4290,   4290,   4300,   4300,   4320,   4320,   4320,   4320,\n",
       "           4400,   4500,   4560,   4590,   4620,   4620,   4680,   4680,\n",
       "           4700,   4700,   4800,   4900,   4900,   4950,   4950,   4950,\n",
       "           5000,   5000,   5060,   5060,   5060,   5100,   5160,   5170,\n",
       "           5170,   5200,   5220,   5330,   5390,   5400,   5400,   5490,\n",
       "           5500,   5500,   5590,   5590,   5600,   5600,   5640,   5670,\n",
       "           5700,   5760,   5830,   5830,   5850,   5900,   5900,   5900,\n",
       "           5920,   5940,   5940,   5940,   6000,   6030,   6050,   6050,\n",
       "           6100,   6120,   6160,   6160,   6200,   6240,   6300,   6400,\n",
       "           6400,   6480,   6490,   6500,   6500,   6560,   6600,   6600,\n",
       "           6600,   6700,   6820,   6820,   6820,   6890,   6890,   6930,\n",
       "           6930,   7040,   7080,   7080,   7080,   7110,   7150,   7200,\n",
       "           7200,   7260,   7260,   7280,   7290,   7370,   7400,   7480,\n",
       "           7480,   7500,   7590,   7680,   7700,   7800,   8030,   8060,\n",
       "           8190,   8640,   8700,   8760,   8800,   8970,   9000,   9020,\n",
       "           9100,  10790,  18000,  19080,  24200,  26730,  27700,  28100,\n",
       "          28440,  28800,  29300,  29790,  30100,  30700,  30700,  31680,\n",
       "          31700,  32320,  32480,  32670,  32800,  33480,  33480,  33550,\n",
       "          33930,  34290,  34320,  34650,  34650,  34800,  35000,  35750,\n",
       "          36300,  36400,  36700,  36960,  37520,  37530,  37800,  37840,\n",
       "          38610,  38640,  38700,  38830,  39480,  39690,  39720,  39800,\n",
       "          40000,  40160,  40320,  40500,  40600,  40800,  41130,  41490,\n",
       "          41490,  41520,  41690,  41700,  41850,  42000,  42240,  42300,\n",
       "          42500,  42500,  42840,  42900,  42900,  42930,  43230,  43560,\n",
       "          43600,  44110,  44190,  44200,  44200,  44200,  44220,  44240,\n",
       "          44280,  44280,  44400,  44640,  44910,  45000,  45100,  45100,\n",
       "          45180,  45270,  45500,  45630,  45700,  46200,  46200,  46560,\n",
       "          46800,  46860,  46980,  46980,  47080,  47160,  47300,  47300,\n",
       "          47430,  47740,  47800,  48000,  48000,  48060,  48070,  48100,\n",
       "          48290,  48360,  48360,  48400,  48730,  48780,  48870,  48950,\n",
       "          49060,  49140,  49390,  49400,  49400,  49410,  49800,  49900,\n",
       "          50000,  50000,  50380,  50490,  50500,  50700,  50800,  51000,\n",
       "          51030,  51090,  51100,  51120,  51210,  51210,  51260,  51390,\n",
       "          51400,  51480,  51570,  51590,  51600,  51660,  51700,  51740,\n",
       "          51800,  51840,  52030,  52030,  52110,  52200,  52200,  52250,\n",
       "          52290,  52380,  52560,  52700,  52800,  52800,  53020,  53040,\n",
       "          53100,  53190,  53280,  53370,  53400,  53400,  53440,  53460,\n",
       "          53460,  53500,  53680,  53680,  53680,  53800,  53900,  54000,\n",
       "          54120,  54160,  54240,  54300,  54340,  54340,  54400,  54450,\n",
       "          54560,  54890,  54900,  55110,  55120,  55200,  55260,  55500,\n",
       "          55600,  55680,  55700,  55800,  55900,  56000,  56000,  56070,\n",
       "          56160,  56160,  56300,  56320,  56320,  56340,  56400,  56430,\n",
       "          56520,  56600,  56610,  57000,  57060,  57060,  57100,  57120,\n",
       "          57200,  57200,  57310,  57330,  57330,  57500,  57600,  57640,\n",
       "          57700,  57700,  57700,  57720,  57860,  57900,  57900,  57970,\n",
       "          58140,  58200,  58300,  58300,  58410,  58500,  58500,  58500,\n",
       "          58560,  58800,  58850,  58960,  59040,  59040,  59070,  59070,\n",
       "          59200,  59300,  59400,  59400,  59490,  59500,  59520,  59670,\n",
       "          59700,  59730,  59940,  60000,  60170,  60190,  60200,  60210,\n",
       "          60400,  60480,  60480,  60500,  60570,  60600,  60600,  60600,\n",
       "          60700,  60750,  60840,  61050,  61100,  61270,  61320,  61380,\n",
       "          61400,  61440,  61490,  61490,  61490,  61500,  61500,  61560,\n",
       "          61600,  61650,  61700,  61740,  61740,  61800,  61920,  62260,\n",
       "          62280,  62300,  62370,  62460,  62590,  62590,  62640,  62800,\n",
       "          62810,  62900,  62900,  62920,  62920,  62920,  63030,  63100,\n",
       "          63120,  63240,  63240,  63250,  63300,  63300,  63470,  63580,\n",
       "          63600,  63720,  63900,  63900,  63910,  64000,  64080,  64080,\n",
       "          64080,  64100,  64200,  64240,  64260,  64320,  64350,  64350,\n",
       "          64400,  64400,  64570,  64620,  64680,  64800,  64900,  64920,\n",
       "          65040,  65070,  65100,  65250,  65400,  65430,  65440,  65500,\n",
       "          65520,  65780,  65780,  65790,  65800,  66200,  66200,  66240,\n",
       "          66550,  66550,  66660,  66660,  66780,  66840,  66950,  66950,\n",
       "          67200,  67210,  67320,  67320,  67500,  67600,  67650,  67800,\n",
       "          67800,  68000,  68040,  68090,  68160,  68300,  68400,  68530,\n",
       "          68580,  68750,  68760,  68970,  69100,  69300,  69300,  69300,\n",
       "          69360,  69400,  69400,  69480,  69480,  69630,  69700,  69740,\n",
       "          69840,  69850,  70290,  70290,  70290,  70400,  70400,  70500,\n",
       "          70510,  70680,  70700,  70830,  70900,  70900,  70920,  71060,\n",
       "          71100,  71440,  71640,  71800,  72000,  72100,  72120,  72800,\n",
       "          72820,  72840,  72900,  72930,  73320,  73370,  73400,  73500,\n",
       "          73560,  73800,  74030,  74140,  74140,  74160,  74200,  74200,\n",
       "          74360,  74700,  74700,  74880,  74900,  75400,  75460,  75500,\n",
       "          75600,  75690,  75790,  75960,  76050,  76120,  76120,  76400,\n",
       "          76450,  76560,  76600,  76700,  76890,  76900,  76920,  77000,\n",
       "          77040,  77100,  77100,  77110,  77110,  77130,  77200,  77440,\n",
       "          77440,  77440,  77700,  77770,  77800,  77880,  77880,  77880,\n",
       "          77990,  78000,  78120,  78200,  78240,  78300,  78320,  78500,\n",
       "          78650,  78870,  78900,  79080,  79090,  79090,  79300,  79320,\n",
       "          79500,  79500,  79530,  79560,  79560,  79600,  79680,  79750,\n",
       "          79800,  80080,  80100,  80280,  80520,  80880,  80960,  81070,\n",
       "          81120,  81400,  81500,  81800,  81960,  82060,  82170,  82400,\n",
       "          82720,  82830,  83160,  83160,  83490,  84500,  84590,  84590,\n",
       "          84600,  84720,  85020,  85150,  85250,  85300,  85320,  85690,\n",
       "          86060,  86130,  86400,  86790,  87010,  87100,  87200,  87300,\n",
       "          87780,  87900,  88110,  88220,  88400,  88920,  89400,  89520,\n",
       "          89650,  90000,  90240,  90400,  90480,  90530,  90600,  90970,\n",
       "          91080,  91260,  91650,  93480,  93720,  93730,  94560,  94930,\n",
       "          95000,  95150,  95810,  95900,  97080,  99990, 100210, 100800,\n",
       "         101010, 101860, 103560, 105040, 105820, 108030, 108480, 114920],\n",
       "        dtype=int64)),\n",
       " (26445.203455495135, 50230.265957446805, 0.9572168988237284))"
      ]
     },
     "execution_count": 54,
     "metadata": {},
     "output_type": "execute_result"
    },
    {
     "data": {
      "image/png": "[encoded data removed]",
      "text/plain": [
       "<Figure size 432x288 with 1 Axes>"
      ]
     },
     "metadata": {
      "needs_background": "light"
     },
     "output_type": "display_data"
    }
   ],
   "source": [
    "# probability plot\n",
    "stats.probplot(fraudN2.total_claim_amount, plot= plt)"
   ]
  },
  {
   "cell_type": "code",
   "execution_count": 55,
   "metadata": {},
   "outputs": [
    {
     "data": {
      "image/png": "[encoded data removed]",
      "text/plain": [
       "<Figure size 432x288 with 1 Axes>"
      ]
     },
     "metadata": {
      "needs_background": "light"
     },
     "output_type": "display_data"
    }
   ],
   "source": [
    "# scatter plot\n",
    "# use thinkpot's Scatter to create scatter plot\n",
    "\n",
    "thinkplot.Scatter(fraudY2['months_bf_incident'], fraudY2['total_claim_amount'], alpha=1)\n",
    "thinkplot.Config(xlabel='Months before Incident',\n",
    "                 ylabel='Total Claim Amount',\n",
    "                 axis=[0, 350, 5000, 200000],\n",
    "                 legend=False)"
   ]
  },
  {
   "cell_type": "code",
   "execution_count": 56,
   "metadata": {},
   "outputs": [
    {
     "data": {
      "image/png": "[encoded data removed]",
      "text/plain": [
       "<Figure size 432x288 with 1 Axes>"
      ]
     },
     "metadata": {
      "needs_background": "light"
     },
     "output_type": "display_data"
    }
   ],
   "source": [
    "# scatter plot\n",
    "# use thinkpot's Scatter to create scatter plot\n",
    "\n",
    "thinkplot.Scatter(fraudN2['months_bf_incident'], fraudN2['total_claim_amount'], alpha=1)\n",
    "thinkplot.Config(xlabel='Months before Incident',\n",
    "                 ylabel='Total Claim Amount',\n",
    "                 axis=[0, 350, 5000, 200000],\n",
    "                 legend=False)"
   ]
  },
  {
   "cell_type": "code",
   "execution_count": 57,
   "metadata": {},
   "outputs": [
    {
     "data": {
      "image/png": "[encoded data removed]",
      "text/plain": [
       "<Figure size 432x288 with 1 Axes>"
      ]
     },
     "metadata": {
      "needs_background": "light"
     },
     "output_type": "display_data"
    }
   ],
   "source": [
    "# scatter plot\n",
    "# use thinkpot's Scatter to create scatter plot\n",
    "\n",
    "thinkplot.Scatter(fraudY2['months_bf_incident'], fraudY2['umbrella_limit'], alpha=1)\n",
    "thinkplot.Config(xlabel='months before incident',\n",
    "                 ylabel='umbrella limit',\n",
    "                 axis=[0, 300, 0, 20000000],\n",
    "                 legend=False)"
   ]
  },
  {
   "cell_type": "code",
   "execution_count": 58,
   "metadata": {},
   "outputs": [
    {
     "data": {
      "image/png": "[encoded data removed]",
      "text/plain": [
       "<Figure size 432x288 with 1 Axes>"
      ]
     },
     "metadata": {
      "needs_background": "light"
     },
     "output_type": "display_data"
    }
   ],
   "source": [
    "# scatter plot\n",
    "# use thinkpot's Scatter to create scatter plot\n",
    "\n",
    "thinkplot.Scatter(fraudN2['months_bf_incident'], fraudN2['umbrella_limit'], alpha=1)\n",
    "thinkplot.Config(xlabel='months before incident',\n",
    "                 ylabel='umbrella limit',\n",
    "                 axis=[0, 300, 0, 20000000],\n",
    "                 legend=False)"
   ]
  },
  {
   "cell_type": "code",
   "execution_count": 77,
   "metadata": {},
   "outputs": [
    {
     "data": {
      "text/html": [
       "<div>\n",
       "<style scoped>\n",
       "    .dataframe tbody tr th:only-of-type {\n",
       "        vertical-align: middle;\n",
       "    }\n",
       "\n",
       "    .dataframe tbody tr th {\n",
       "        vertical-align: top;\n",
       "    }\n",
       "\n",
       "    .dataframe thead th {\n",
       "        text-align: right;\n",
       "    }\n",
       "</style>\n",
       "<table border=\"1\" class=\"dataframe\">\n",
       "  <thead>\n",
       "    <tr style=\"text-align: right;\">\n",
       "      <th></th>\n",
       "      <th>months_bf_incident</th>\n",
       "      <th>total_claim_amount</th>\n",
       "      <th>witnesses</th>\n",
       "      <th>policy_deductable</th>\n",
       "      <th>umbrella_limit</th>\n",
       "    </tr>\n",
       "  </thead>\n",
       "  <tbody>\n",
       "    <tr>\n",
       "      <th>months_bf_incident</th>\n",
       "      <td>1.000000</td>\n",
       "      <td>-0.002242</td>\n",
       "      <td>-0.056202</td>\n",
       "      <td>0.051403</td>\n",
       "      <td>-0.045374</td>\n",
       "    </tr>\n",
       "    <tr>\n",
       "      <th>total_claim_amount</th>\n",
       "      <td>-0.002242</td>\n",
       "      <td>1.000000</td>\n",
       "      <td>-0.010440</td>\n",
       "      <td>0.024516</td>\n",
       "      <td>-0.038972</td>\n",
       "    </tr>\n",
       "    <tr>\n",
       "      <th>witnesses</th>\n",
       "      <td>-0.056202</td>\n",
       "      <td>-0.010440</td>\n",
       "      <td>1.000000</td>\n",
       "      <td>0.066224</td>\n",
       "      <td>-0.007144</td>\n",
       "    </tr>\n",
       "    <tr>\n",
       "      <th>policy_deductable</th>\n",
       "      <td>0.051403</td>\n",
       "      <td>0.024516</td>\n",
       "      <td>0.066224</td>\n",
       "      <td>1.000000</td>\n",
       "      <td>0.009927</td>\n",
       "    </tr>\n",
       "    <tr>\n",
       "      <th>umbrella_limit</th>\n",
       "      <td>-0.045374</td>\n",
       "      <td>-0.038972</td>\n",
       "      <td>-0.007144</td>\n",
       "      <td>0.009927</td>\n",
       "      <td>1.000000</td>\n",
       "    </tr>\n",
       "  </tbody>\n",
       "</table>\n",
       "</div>"
      ],
      "text/plain": [
       "                    months_bf_incident  total_claim_amount  witnesses  \\\n",
       "months_bf_incident            1.000000           -0.002242  -0.056202   \n",
       "total_claim_amount           -0.002242            1.000000  -0.010440   \n",
       "witnesses                    -0.056202           -0.010440   1.000000   \n",
       "policy_deductable             0.051403            0.024516   0.066224   \n",
       "umbrella_limit               -0.045374           -0.038972  -0.007144   \n",
       "\n",
       "                    policy_deductable  umbrella_limit  \n",
       "months_bf_incident           0.051403       -0.045374  \n",
       "total_claim_amount           0.024516       -0.038972  \n",
       "witnesses                    0.066224       -0.007144  \n",
       "policy_deductable            1.000000        0.009927  \n",
       "umbrella_limit               0.009927        1.000000  "
      ]
     },
     "execution_count": 77,
     "metadata": {},
     "output_type": "execute_result"
    }
   ],
   "source": [
    "# Create new dataset with quantitative variables - full dataframe\n",
    "dfClaims_quant = dfClaims.filter(['months_bf_incident', 'total_claim_amount', 'witnesses', 'policy_deductable', 'umbrella_limit'], axis=1)\n",
    "dfClaims_quant.corr()"
   ]
  },
  {
   "cell_type": "code",
   "execution_count": 78,
   "metadata": {},
   "outputs": [
    {
     "data": {
      "text/html": [
       "<div>\n",
       "<style scoped>\n",
       "    .dataframe tbody tr th:only-of-type {\n",
       "        vertical-align: middle;\n",
       "    }\n",
       "\n",
       "    .dataframe tbody tr th {\n",
       "        vertical-align: top;\n",
       "    }\n",
       "\n",
       "    .dataframe thead th {\n",
       "        text-align: right;\n",
       "    }\n",
       "</style>\n",
       "<table border=\"1\" class=\"dataframe\">\n",
       "  <thead>\n",
       "    <tr style=\"text-align: right;\">\n",
       "      <th></th>\n",
       "      <th>months_bf_incident</th>\n",
       "      <th>total_claim_amount</th>\n",
       "      <th>witnesses</th>\n",
       "      <th>policy_deductable</th>\n",
       "      <th>umbrella_limit</th>\n",
       "    </tr>\n",
       "  </thead>\n",
       "  <tbody>\n",
       "    <tr>\n",
       "      <th>months_bf_incident</th>\n",
       "      <td>1.000000</td>\n",
       "      <td>0.132688</td>\n",
       "      <td>-0.080317</td>\n",
       "      <td>0.002766</td>\n",
       "      <td>0.006353</td>\n",
       "    </tr>\n",
       "    <tr>\n",
       "      <th>total_claim_amount</th>\n",
       "      <td>0.132688</td>\n",
       "      <td>1.000000</td>\n",
       "      <td>0.037589</td>\n",
       "      <td>-0.104484</td>\n",
       "      <td>-0.022993</td>\n",
       "    </tr>\n",
       "    <tr>\n",
       "      <th>witnesses</th>\n",
       "      <td>-0.080317</td>\n",
       "      <td>0.037589</td>\n",
       "      <td>1.000000</td>\n",
       "      <td>0.031163</td>\n",
       "      <td>-0.037245</td>\n",
       "    </tr>\n",
       "    <tr>\n",
       "      <th>policy_deductable</th>\n",
       "      <td>0.002766</td>\n",
       "      <td>-0.104484</td>\n",
       "      <td>0.031163</td>\n",
       "      <td>1.000000</td>\n",
       "      <td>-0.011936</td>\n",
       "    </tr>\n",
       "    <tr>\n",
       "      <th>umbrella_limit</th>\n",
       "      <td>0.006353</td>\n",
       "      <td>-0.022993</td>\n",
       "      <td>-0.037245</td>\n",
       "      <td>-0.011936</td>\n",
       "      <td>1.000000</td>\n",
       "    </tr>\n",
       "  </tbody>\n",
       "</table>\n",
       "</div>"
      ],
      "text/plain": [
       "                    months_bf_incident  total_claim_amount  witnesses  \\\n",
       "months_bf_incident            1.000000            0.132688  -0.080317   \n",
       "total_claim_amount            0.132688            1.000000   0.037589   \n",
       "witnesses                    -0.080317            0.037589   1.000000   \n",
       "policy_deductable             0.002766           -0.104484   0.031163   \n",
       "umbrella_limit                0.006353           -0.022993  -0.037245   \n",
       "\n",
       "                    policy_deductable  umbrella_limit  \n",
       "months_bf_incident           0.002766        0.006353  \n",
       "total_claim_amount          -0.104484       -0.022993  \n",
       "witnesses                    0.031163       -0.037245  \n",
       "policy_deductable            1.000000       -0.011936  \n",
       "umbrella_limit              -0.011936        1.000000  "
      ]
     },
     "execution_count": 78,
     "metadata": {},
     "output_type": "execute_result"
    }
   ],
   "source": [
    "# Create new dataset with quantitative variables - full dataframe\n",
    "fraudY2_quant = fraudY2.filter(['months_bf_incident', 'total_claim_amount', 'witnesses', 'policy_deductable', 'umbrella_limit'], axis=1)\n",
    "fraudY2_quant.corr()"
   ]
  },
  {
   "cell_type": "code",
   "execution_count": 79,
   "metadata": {},
   "outputs": [
    {
     "data": {
      "text/html": [
       "<div>\n",
       "<style scoped>\n",
       "    .dataframe tbody tr th:only-of-type {\n",
       "        vertical-align: middle;\n",
       "    }\n",
       "\n",
       "    .dataframe tbody tr th {\n",
       "        vertical-align: top;\n",
       "    }\n",
       "\n",
       "    .dataframe thead th {\n",
       "        text-align: right;\n",
       "    }\n",
       "</style>\n",
       "<table border=\"1\" class=\"dataframe\">\n",
       "  <thead>\n",
       "    <tr style=\"text-align: right;\">\n",
       "      <th></th>\n",
       "      <th>months_bf_incident</th>\n",
       "      <th>total_claim_amount</th>\n",
       "      <th>witnesses</th>\n",
       "      <th>policy_deductable</th>\n",
       "      <th>umbrella_limit</th>\n",
       "    </tr>\n",
       "  </thead>\n",
       "  <tbody>\n",
       "    <tr>\n",
       "      <th>months_bf_incident</th>\n",
       "      <td>1.000000</td>\n",
       "      <td>-0.035670</td>\n",
       "      <td>-0.048958</td>\n",
       "      <td>0.067778</td>\n",
       "      <td>-0.064554</td>\n",
       "    </tr>\n",
       "    <tr>\n",
       "      <th>total_claim_amount</th>\n",
       "      <td>-0.035670</td>\n",
       "      <td>1.000000</td>\n",
       "      <td>-0.032133</td>\n",
       "      <td>0.055139</td>\n",
       "      <td>-0.057434</td>\n",
       "    </tr>\n",
       "    <tr>\n",
       "      <th>witnesses</th>\n",
       "      <td>-0.048958</td>\n",
       "      <td>-0.032133</td>\n",
       "      <td>1.000000</td>\n",
       "      <td>0.076749</td>\n",
       "      <td>-0.000597</td>\n",
       "    </tr>\n",
       "    <tr>\n",
       "      <th>policy_deductable</th>\n",
       "      <td>0.067778</td>\n",
       "      <td>0.055139</td>\n",
       "      <td>0.076749</td>\n",
       "      <td>1.000000</td>\n",
       "      <td>0.017126</td>\n",
       "    </tr>\n",
       "    <tr>\n",
       "      <th>umbrella_limit</th>\n",
       "      <td>-0.064554</td>\n",
       "      <td>-0.057434</td>\n",
       "      <td>-0.000597</td>\n",
       "      <td>0.017126</td>\n",
       "      <td>1.000000</td>\n",
       "    </tr>\n",
       "  </tbody>\n",
       "</table>\n",
       "</div>"
      ],
      "text/plain": [
       "                    months_bf_incident  total_claim_amount  witnesses  \\\n",
       "months_bf_incident            1.000000           -0.035670  -0.048958   \n",
       "total_claim_amount           -0.035670            1.000000  -0.032133   \n",
       "witnesses                    -0.048958           -0.032133   1.000000   \n",
       "policy_deductable             0.067778            0.055139   0.076749   \n",
       "umbrella_limit               -0.064554           -0.057434  -0.000597   \n",
       "\n",
       "                    policy_deductable  umbrella_limit  \n",
       "months_bf_incident           0.067778       -0.064554  \n",
       "total_claim_amount           0.055139       -0.057434  \n",
       "witnesses                    0.076749       -0.000597  \n",
       "policy_deductable            1.000000        0.017126  \n",
       "umbrella_limit               0.017126        1.000000  "
      ]
     },
     "execution_count": 79,
     "metadata": {},
     "output_type": "execute_result"
    }
   ],
   "source": [
    "# Create new dataset with quantitative variables - full dataframe\n",
    "fraudN2_quant = fraudN2.filter(['months_bf_incident', 'total_claim_amount', 'witnesses', 'policy_deductable', 'umbrella_limit'], axis=1)\n",
    "fraudN2_quant.corr()"
   ]
  },
  {
   "cell_type": "code",
   "execution_count": 81,
   "metadata": {},
   "outputs": [
    {
     "data": {
      "text/plain": [
       "PointbiserialrResult(correlation=-0.16478101492025085, pvalue=1.627232492099993e-07)"
      ]
     },
     "execution_count": 81,
     "metadata": {},
     "output_type": "execute_result"
    }
   ],
   "source": [
    "pbc = stats.pointbiserialr(dfClaims.fraud_reported_f, dfClaims.total_claim_amount)\n",
    "pbc"
   ]
  },
  {
   "cell_type": "code",
   "execution_count": 82,
   "metadata": {},
   "outputs": [
    {
     "data": {
      "text/plain": [
       "PointbiserialrResult(correlation=-0.05813100524817261, pvalue=0.06626935848682936)"
      ]
     },
     "execution_count": 82,
     "metadata": {},
     "output_type": "execute_result"
    }
   ],
   "source": [
    "pbc = stats.pointbiserialr(dfClaims.fraud_reported_f, dfClaims.umbrella_limit)\n",
    "pbc"
   ]
  },
  {
   "cell_type": "code",
   "execution_count": 83,
   "metadata": {},
   "outputs": [
    {
     "data": {
      "text/plain": [
       "PointbiserialrResult(correlation=-0.0014579814179212156, pvalue=0.9632905687387004)"
      ]
     },
     "execution_count": 83,
     "metadata": {},
     "output_type": "execute_result"
    }
   ],
   "source": [
    "pbc = stats.pointbiserialr(dfClaims.fraud_reported_f, dfClaims.months_bf_incident)\n",
    "pbc"
   ]
  },
  {
   "cell_type": "code",
   "execution_count": 84,
   "metadata": {},
   "outputs": [
    {
     "data": {
      "text/plain": [
       "PointbiserialrResult(correlation=-0.04925815127227322, pvalue=0.11973286668807653)"
      ]
     },
     "execution_count": 84,
     "metadata": {},
     "output_type": "execute_result"
    }
   ],
   "source": [
    "pbc = stats.pointbiserialr(dfClaims.fraud_reported_f, dfClaims.witnesses)\n",
    "pbc"
   ]
  },
  {
   "cell_type": "code",
   "execution_count": 85,
   "metadata": {},
   "outputs": [
    {
     "data": {
      "text/plain": [
       "PointbiserialrResult(correlation=-0.014231171157091445, pvalue=0.6532414524704065)"
      ]
     },
     "execution_count": 85,
     "metadata": {},
     "output_type": "execute_result"
    }
   ],
   "source": [
    "pbc = stats.pointbiserialr(dfClaims.fraud_reported_f, dfClaims.policy_deductable)\n",
    "pbc"
   ]
  },
  {
   "cell_type": "code",
   "execution_count": null,
   "metadata": {},
   "outputs": [],
   "source": []
  },
  {
   "cell_type": "code",
   "execution_count": 61,
   "metadata": {},
   "outputs": [
    {
     "data": {
      "text/plain": [
       "0.076"
      ]
     },
     "execution_count": 61,
     "metadata": {},
     "output_type": "execute_result"
    }
   ],
   "source": [
    "# To compute the p-value of an observed difference in means, we can assume that there is no difference between the groups and \n",
    "# generate simulated results by shuffling the data\n",
    "\n",
    "class DiffMeansPermute(thinkstats2.HypothesisTest):\n",
    "\n",
    "    def TestStatistic(self, data):\n",
    "        group1, group2 = data\n",
    "        test_stat = abs(group1.mean() - group2.mean())\n",
    "        return test_stat\n",
    "\n",
    "    def MakeModel(self):\n",
    "        group1, group2 = self.data\n",
    "        self.n, self.m = len(group1), len(group2)\n",
    "        self.pool = np.hstack((group1, group2))\n",
    "\n",
    "    def RunModel(self):\n",
    "        np.random.shuffle(self.pool)\n",
    "        data = self.pool[:self.n], self.pool[self.n:]\n",
    "        return data\n",
    "    \n",
    "data = fraudY2['umbrella_limit'], fraudN2['umbrella_limit']\n",
    "ht = DiffMeansPermute(data)\n",
    "pvalue = ht.PValue(iters=1000)\n",
    "pvalue"
   ]
  },
  {
   "cell_type": "code",
   "execution_count": 73,
   "metadata": {},
   "outputs": [
    {
     "data": {
      "text/plain": [
       "0.662"
      ]
     },
     "execution_count": 73,
     "metadata": {},
     "output_type": "execute_result"
    }
   ],
   "source": [
    "# To compute the p-value of an observed difference in means, we can assume that there is no difference between the groups and \n",
    "# generate simulated results by shuffling the data\n",
    "\n",
    "class DiffMeansPermute(thinkstats2.HypothesisTest):\n",
    "\n",
    "    def TestStatistic(self, data):\n",
    "        group1, group2 = data\n",
    "        test_stat = abs(group1.mean() - group2.mean())\n",
    "        return test_stat\n",
    "\n",
    "    def MakeModel(self):\n",
    "        group1, group2 = self.data\n",
    "        self.n, self.m = len(group1), len(group2)\n",
    "        self.pool = np.hstack((group1, group2))\n",
    "\n",
    "    def RunModel(self):\n",
    "        np.random.shuffle(self.pool)\n",
    "        data = self.pool[:self.n], self.pool[self.n:]\n",
    "        return data\n",
    "    \n",
    "data = fraudY2['policy_deductable'], fraudN2['policy_deductable']\n",
    "ht = DiffMeansPermute(data)\n",
    "pvalue = ht.PValue(iters=1000)\n",
    "pvalue"
   ]
  },
  {
   "cell_type": "code",
   "execution_count": 74,
   "metadata": {},
   "outputs": [
    {
     "data": {
      "text/plain": [
       "0.0"
      ]
     },
     "execution_count": 74,
     "metadata": {},
     "output_type": "execute_result"
    }
   ],
   "source": [
    "# To compute the p-value of an observed difference in means, we can assume that there is no difference between the groups and \n",
    "# generate simulated results by shuffling the data\n",
    "\n",
    "class DiffMeansPermute(thinkstats2.HypothesisTest):\n",
    "\n",
    "    def TestStatistic(self, data):\n",
    "        group1, group2 = data\n",
    "        test_stat = abs(group1.mean() - group2.mean())\n",
    "        return test_stat\n",
    "\n",
    "    def MakeModel(self):\n",
    "        group1, group2 = self.data\n",
    "        self.n, self.m = len(group1), len(group2)\n",
    "        self.pool = np.hstack((group1, group2))\n",
    "\n",
    "    def RunModel(self):\n",
    "        np.random.shuffle(self.pool)\n",
    "        data = self.pool[:self.n], self.pool[self.n:]\n",
    "        return data\n",
    "    \n",
    "data = fraudY2['total_claim_amount'], fraudN2['total_claim_amount']\n",
    "ht = DiffMeansPermute(data)\n",
    "pvalue = ht.PValue(iters=1000)\n",
    "pvalue"
   ]
  },
  {
   "cell_type": "code",
   "execution_count": 75,
   "metadata": {},
   "outputs": [
    {
     "data": {
      "text/plain": [
       "0.958"
      ]
     },
     "execution_count": 75,
     "metadata": {},
     "output_type": "execute_result"
    }
   ],
   "source": [
    "# To compute the p-value of an observed difference in means, we can assume that there is no difference between the groups and \n",
    "# generate simulated results by shuffling the data\n",
    "\n",
    "class DiffMeansPermute(thinkstats2.HypothesisTest):\n",
    "\n",
    "    def TestStatistic(self, data):\n",
    "        group1, group2 = data\n",
    "        test_stat = abs(group1.mean() - group2.mean())\n",
    "        return test_stat\n",
    "\n",
    "    def MakeModel(self):\n",
    "        group1, group2 = self.data\n",
    "        self.n, self.m = len(group1), len(group2)\n",
    "        self.pool = np.hstack((group1, group2))\n",
    "\n",
    "    def RunModel(self):\n",
    "        np.random.shuffle(self.pool)\n",
    "        data = self.pool[:self.n], self.pool[self.n:]\n",
    "        return data\n",
    "    \n",
    "data = fraudY2['months_bf_incident'], fraudN2['months_bf_incident']\n",
    "ht = DiffMeansPermute(data)\n",
    "pvalue = ht.PValue(iters=1000)\n",
    "pvalue"
   ]
  },
  {
   "cell_type": "code",
   "execution_count": 76,
   "metadata": {},
   "outputs": [
    {
     "data": {
      "text/plain": [
       "0.13"
      ]
     },
     "execution_count": 76,
     "metadata": {},
     "output_type": "execute_result"
    }
   ],
   "source": [
    "# To compute the p-value of an observed difference in means, we can assume that there is no difference between the groups and \n",
    "# generate simulated results by shuffling the data\n",
    "\n",
    "class DiffMeansPermute(thinkstats2.HypothesisTest):\n",
    "\n",
    "    def TestStatistic(self, data):\n",
    "        group1, group2 = data\n",
    "        test_stat = abs(group1.mean() - group2.mean())\n",
    "        return test_stat\n",
    "\n",
    "    def MakeModel(self):\n",
    "        group1, group2 = self.data\n",
    "        self.n, self.m = len(group1), len(group2)\n",
    "        self.pool = np.hstack((group1, group2))\n",
    "\n",
    "    def RunModel(self):\n",
    "        np.random.shuffle(self.pool)\n",
    "        data = self.pool[:self.n], self.pool[self.n:]\n",
    "        return data\n",
    "    \n",
    "data = fraudY2['witnesses'], fraudN2['witnesses']\n",
    "ht = DiffMeansPermute(data)\n",
    "pvalue = ht.PValue(iters=1000)\n",
    "pvalue"
   ]
  },
  {
   "cell_type": "code",
   "execution_count": 66,
   "metadata": {},
   "outputs": [
    {
     "data": {
      "text/plain": [
       "0.966"
      ]
     },
     "execution_count": 66,
     "metadata": {},
     "output_type": "execute_result"
    }
   ],
   "source": [
    "# Testing correlation\n",
    "#stats.pointbiserialr()\n",
    "# To check whether an observed correlation is statistically significant, we can run a permutation test \n",
    "class CorrelationPermute(thinkstats2.HypothesisTest):\n",
    "\n",
    "    def TestStatistic(self, data):\n",
    "        xs, ys = data\n",
    "        test_stat = stats.pointbiserialr(xs, ys)\n",
    "        return test_stat[0]\n",
    "\n",
    "    def RunModel(self):\n",
    "        xs, ys = self.data\n",
    "        xs = np.random.permutation(xs)\n",
    "        return xs, ys\n",
    "\n",
    "data = dfClaims['fraud_reported_f'], dfClaims['umbrella_limit']\n",
    "ht = CorrelationPermute(data)\n",
    "pvalue = ht.PValue(iters=1000)\n",
    "pvalue"
   ]
  },
  {
   "cell_type": "code",
   "execution_count": null,
   "metadata": {},
   "outputs": [],
   "source": []
  },
  {
   "cell_type": "code",
   "execution_count": 67,
   "metadata": {},
   "outputs": [
    {
     "data": {
      "text/plain": [
       "1.0"
      ]
     },
     "execution_count": 67,
     "metadata": {},
     "output_type": "execute_result"
    }
   ],
   "source": [
    "# Testing correlation\n",
    "#stats.pointbiserialr()\n",
    "# To check whether an observed correlation is statistically significant, we can run a permutation test \n",
    "class CorrelationPermute(thinkstats2.HypothesisTest):\n",
    "\n",
    "    def TestStatistic(self, data):\n",
    "        xs, ys = data\n",
    "        test_stat = stats.pointbiserialr(xs, ys)\n",
    "        return test_stat[0]\n",
    "\n",
    "    def RunModel(self):\n",
    "        xs, ys = self.data\n",
    "        xs = np.random.permutation(xs)\n",
    "        return xs, ys\n",
    "\n",
    "data = dfClaims['fraud_reported_f'], dfClaims['total_claim_amount']\n",
    "ht = CorrelationPermute(data)\n",
    "pvalue = ht.PValue(iters=1000)\n",
    "pvalue"
   ]
  },
  {
   "cell_type": "code",
   "execution_count": 68,
   "metadata": {},
   "outputs": [
    {
     "data": {
      "text/plain": [
       "0.523"
      ]
     },
     "execution_count": 68,
     "metadata": {},
     "output_type": "execute_result"
    }
   ],
   "source": [
    "#stats.pointbiserialr()\n",
    "# To check whether an observed correlation is statistically significant, we can run a permutation test \n",
    "class CorrelationPermute(thinkstats2.HypothesisTest):\n",
    "\n",
    "    def TestStatistic(self, data):\n",
    "        xs, ys = data\n",
    "        test_stat = stats.pointbiserialr(xs, ys)\n",
    "        return test_stat[0]\n",
    "\n",
    "    def RunModel(self):\n",
    "        xs, ys = self.data\n",
    "        xs = np.random.permutation(xs)\n",
    "        return xs, ys\n",
    "\n",
    "data = dfClaims['fraud_reported_f'], dfClaims['months_bf_incident']\n",
    "ht = CorrelationPermute(data)\n",
    "pvalue = ht.PValue(iters=1000)\n",
    "pvalue"
   ]
  },
  {
   "cell_type": "code",
   "execution_count": 69,
   "metadata": {},
   "outputs": [
    {
     "data": {
      "text/plain": [
       "0.953"
      ]
     },
     "execution_count": 69,
     "metadata": {},
     "output_type": "execute_result"
    }
   ],
   "source": [
    "#stats.pointbiserialr()\n",
    "# To check whether an observed correlation is statistically significant, we can run a permutation test \n",
    "class CorrelationPermute(thinkstats2.HypothesisTest):\n",
    "\n",
    "    def TestStatistic(self, data):\n",
    "        xs, ys = data\n",
    "        test_stat = stats.pointbiserialr(xs, ys)\n",
    "        return test_stat[0]\n",
    "\n",
    "    def RunModel(self):\n",
    "        xs, ys = self.data\n",
    "        xs = np.random.permutation(xs)\n",
    "        return xs, ys\n",
    "\n",
    "data = dfClaims['fraud_reported_f'], dfClaims['witnesses']\n",
    "ht = CorrelationPermute(data)\n",
    "pvalue = ht.PValue(iters=1000)\n",
    "pvalue"
   ]
  },
  {
   "cell_type": "code",
   "execution_count": 71,
   "metadata": {},
   "outputs": [
    {
     "data": {
      "text/plain": [
       "0.685"
      ]
     },
     "execution_count": 71,
     "metadata": {},
     "output_type": "execute_result"
    }
   ],
   "source": [
    "#stats.pointbiserialr()\n",
    "# To check whether an observed correlation is statistically significant, we can run a permutation test \n",
    "class CorrelationPermute(thinkstats2.HypothesisTest):\n",
    "\n",
    "    def TestStatistic(self, data):\n",
    "        xs, ys = data\n",
    "        test_stat = stats.pointbiserialr(xs, ys)\n",
    "        return test_stat[0]\n",
    "\n",
    "    def RunModel(self):\n",
    "        xs, ys = self.data\n",
    "        xs = np.random.permutation(xs)\n",
    "        return xs, ys\n",
    "\n",
    "data = dfClaims['fraud_reported_f'], dfClaims['policy_deductable']\n",
    "ht = CorrelationPermute(data)\n",
    "pvalue = ht.PValue(iters=1000)\n",
    "pvalue"
   ]
  },
  {
   "cell_type": "code",
   "execution_count": null,
   "metadata": {},
   "outputs": [],
   "source": [
    "import patsy\n",
    "formulaLog = 'fraud_reported_f ~ months_as_customer + age + policy_number + policy_state_f + policy_deductable + policy_annual_premium + umbrella_limit + insured_zip + insured_sex_f + insured_education_level_f + insured_occupation_f + insured_hobbies_f + insured_relationship_f + capital_gains + capital_loss + incident_type_f + collision_type_f + incident_severity_f + authorities_contacted_f + incident_state_f + incident_city_f + incident_hour_of_the_day + number_of_vehicles_involved + property_damage_f + bodily_injuries + witnesses + police_report_available_f + total_claim_amount + injury_claim + property_claim + auto_make_f + auto_model_f + auto_year + csl_prop + csl_bodily + months_bf_incident'\n",
    "modelLog = smf.logit(formulaLog, data=dfClaims)\n",
    "resultsLog = modelLog.fit()\n",
    "resultsLog.summary()"
   ]
  },
  {
   "cell_type": "code",
   "execution_count": null,
   "metadata": {},
   "outputs": [],
   "source": []
  }
 ],
 "metadata": {
  "kernelspec": {
   "display_name": "Python 3",
   "language": "python",
   "name": "python3"
  },
  "language_info": {
   "codemirror_mode": {
    "name": "ipython",
    "version": 3
   },
   "file_extension": ".py",
   "mimetype": "text/x-python",
   "name": "python",
   "nbconvert_exporter": "python",
   "pygments_lexer": "ipython3",
   "version": "3.7.6"
  }
 },
 "nbformat": 4,
 "nbformat_minor": 4
}
